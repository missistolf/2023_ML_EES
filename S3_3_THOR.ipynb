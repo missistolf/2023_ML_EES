{
  "nbformat": 4,
  "nbformat_minor": 0,
  "metadata": {
    "colab": {
      "provenance": [],
      "include_colab_link": true
    },
    "kernelspec": {
      "name": "python3",
      "display_name": "Python 3"
    },
    "language_info": {
      "name": "python"
    }
  },
  "cells": [
    {
      "cell_type": "markdown",
      "metadata": {
        "id": "view-in-github",
        "colab_type": "text"
      },
      "source": [
        "<a href=\"https://colab.research.google.com/github/missistolf/2023_ML_EES/blob/main/S3_3_THOR.ipynb\" target=\"_parent\"><img src=\"https://colab.research.google.com/assets/colab-badge.svg\" alt=\"Open In Colab\"/></a>"
      ]
    },
    {
      "cell_type": "markdown",
      "source": [
        "# Ocean Regimes Identification"
      ],
      "metadata": {
        "id": "aRbHtbmd_Qzz"
      }
    },
    {
      "cell_type": "markdown",
      "source": [
        "<img src='https://unils-my.sharepoint.com/:i:/g/personal/tom_beucler_unil_ch/ESLP1e1BfUxKu-hchh7wZKcBZiG3bJnNbnt0PDDm3BK-9g?download=1'>\n",
        "\n",
        "<center>\n",
        "Photo Credits: <a href=\"https://unsplash.com/photos/zCMWw56qseM\">Sea Foam</a> by <a href=\"https://unsplash.com/@unstable_affliction\">Ivan Bandura</a> licensed under the <a href='https://unsplash.com/license'>Unsplash License</a>\n",
        "</center>\n",
        "\n",
        "\n",
        ">*A frequently asked question related to this work is “Which mixing processes matter most for climate?” As with many alluringly comprehensive sounding questions, the answer is “it depends.”* <br>\n",
        "> $\\qquad$ MacKinnon, Jennifer A., et al. <br>$\\qquad$\"Climate process team on internal wave–driven ocean mixing.\" <br>$\\qquad$ Bulletin of the American Meteorological Society 98.11 (2017): 2429-2454."
      ],
      "metadata": {
        "id": "dUurnKLqq1un"
      }
    },
    {
      "cell_type": "markdown",
      "source": [
        "In week 4's final notebook, we will perform clustering to identify regimes in data taken from the realistic numerical ocean model [Estimating the Circulation and Climate of the Ocean](https://www.ecco-group.org/products-ECCO-V4r4.htm). Sonnewald et al. point out that finding robust regimes is intractable with a naïve approach, so we will be using reduced dimensionality data.\n",
        "\n",
        "It is worth pointing out, however, that the reduction was done with an equation instead of one of the algorithms we discussed this week. If you're interested in the full details, you can check out [Sonnewald et al. (2019)](https://doi.org/10.1029/2018EA000519)"
      ],
      "metadata": {
        "id": "yT4KFNrpZIfY"
      }
    },
    {
      "cell_type": "markdown",
      "source": [
        "**Setup**"
      ],
      "metadata": {
        "id": "PHKbQVLOUC5v"
      }
    },
    {
      "cell_type": "markdown",
      "source": [
        "First, let's import a few common modules, ensure MatplotLib plots figures inline and prepare a function to save the figures. We also check that Python 3.5 or later is installed (although Python 2.x may work, it is deprecated so we strongly recommend you use Python 3 instead), as well as Scikit-Learn ≥0.20."
      ],
      "metadata": {
        "id": "4TxieA70pcLo"
      }
    },
    {
      "cell_type": "code",
      "execution_count": 1,
      "metadata": {
        "id": "S61_Smb9T6ad"
      },
      "outputs": [],
      "source": [
        "# Python ≥3.5 is required\n",
        "import sys\n",
        "assert sys.version_info >= (3, 5)\n",
        "\n",
        "# Scikit-Learn ≥0.20 is required\n",
        "import sklearn\n",
        "assert sklearn.__version__ >= \"0.20\"\n",
        "\n",
        "# Common imports\n",
        "import numpy as np\n",
        "import os\n",
        "import xarray as xr\n",
        "import pooch\n",
        "\n",
        "# to make this notebook's output stable across runs\n",
        "rnd_seed = 42\n",
        "rnd_gen = np.random.default_rng(rnd_seed)\n",
        "\n",
        "# To plot pretty figures\n",
        "%matplotlib inline\n",
        "import matplotlib as mpl\n",
        "import matplotlib.pyplot as plt\n",
        "mpl.rc('axes', labelsize=14)\n",
        "mpl.rc('xtick', labelsize=12)\n",
        "mpl.rc('ytick', labelsize=12)\n",
        "\n",
        "# Where to save the figures\n",
        "PROJECT_ROOT_DIR = \".\"\n",
        "CHAPTER_ID = \"dim_reduction\"\n",
        "IMAGES_PATH = os.path.join(PROJECT_ROOT_DIR, \"images\", CHAPTER_ID)\n",
        "os.makedirs(IMAGES_PATH, exist_ok=True)\n",
        "\n",
        "def save_fig(fig_id, tight_layout=True, fig_extension=\"png\", resolution=300):\n",
        "    path = os.path.join(IMAGES_PATH, fig_id + \".\" + fig_extension)\n",
        "    print(\"Saving figure\", fig_id)\n",
        "    if tight_layout:\n",
        "        plt.tight_layout()\n",
        "    plt.savefig(path, format=fig_extension, dpi=resolution)"
      ]
    },
    {
      "cell_type": "markdown",
      "source": [
        "Here we're going to import the [StandardScaler](https://duckduckgo.com/sklearn.preprocessing.standardscaler) function from scikit's preprocessing tools, import the [scikit clustering library](https://duckduckgo.com/sklearn.clustering), and set up the colormap that we will use when plotting."
      ],
      "metadata": {
        "id": "6vUFq1DYUqCx"
      }
    },
    {
      "cell_type": "code",
      "source": [
        "from sklearn.preprocessing import StandardScaler\n",
        "import sklearn.cluster as cluster\n",
        "\n",
        "from matplotlib.colors import LinearSegmentedColormap, ListedColormap\n",
        "colors = ['royalblue', 'cyan','yellow', 'orange', 'magenta', 'red']\n",
        "mycmap = ListedColormap(colors)"
      ],
      "metadata": {
        "id": "34PAL9TkUHd_"
      },
      "execution_count": 2,
      "outputs": []
    },
    {
      "cell_type": "markdown",
      "source": [
        "**Data Preprocessing**"
      ],
      "metadata": {
        "id": "Fr46ZRUjpTzo"
      }
    },
    {
      "cell_type": "markdown",
      "source": [
        "The first thing we need to do is retrieve the list of files we'll be working on. We'll rely on pooch to access the files hosted on the cloud."
      ],
      "metadata": {
        "id": "O9QOXpKGpgt7"
      }
    },
    {
      "cell_type": "code",
      "source": [
        "# Retrieve the files from the cloud using Pooch.\n",
        "data_url = 'https://unils-my.sharepoint.com/:u:/g/personal/tom_beucler_unil_ch/EUYqUzpIjoJBui02QEo6q1wBSN1Zsi1ofE6I3G4B9LJn_Q?download=1'\n",
        "hash = '3f41661c7a087fa7d7af1d2a8baf95c065468f8a415b8514baedda2f5bc18bb5'\n",
        "\n",
        "files = pooch.retrieve(data_url, known_hash=hash, processor=pooch.Unzip())\n",
        "[print(filename) for filename in files];"
      ],
      "metadata": {
        "id": "nDNJnzOAfKE_",
        "colab": {
          "base_uri": "https://localhost:8080/"
        },
        "outputId": "d5680bb4-bd95-4cb3-cef2-c55e146fa67d"
      },
      "execution_count": 3,
      "outputs": [
        {
          "output_type": "stream",
          "name": "stderr",
          "text": [
            "Downloading data from 'https://unils-my.sharepoint.com/:u:/g/personal/tom_beucler_unil_ch/EUYqUzpIjoJBui02QEo6q1wBSN1Zsi1ofE6I3G4B9LJn_Q?download=1' to file '/root/.cache/pooch/8a10ee1ae6941d8b9bb543c954c793fa-EUYqUzpIjoJBui02QEo6q1wBSN1Zsi1ofE6I3G4B9LJn_Q'.\n",
            "Unzipping contents of '/root/.cache/pooch/8a10ee1ae6941d8b9bb543c954c793fa-EUYqUzpIjoJBui02QEo6q1wBSN1Zsi1ofE6I3G4B9LJn_Q' to '/root/.cache/pooch/8a10ee1ae6941d8b9bb543c954c793fa-EUYqUzpIjoJBui02QEo6q1wBSN1Zsi1ofE6I3G4B9LJn_Q.unzip'\n"
          ]
        },
        {
          "output_type": "stream",
          "name": "stdout",
          "text": [
            "/root/.cache/pooch/8a10ee1ae6941d8b9bb543c954c793fa-EUYqUzpIjoJBui02QEo6q1wBSN1Zsi1ofE6I3G4B9LJn_Q.unzip/curlCori.npy\n",
            "/root/.cache/pooch/8a10ee1ae6941d8b9bb543c954c793fa-EUYqUzpIjoJBui02QEo6q1wBSN1Zsi1ofE6I3G4B9LJn_Q.unzip/BPT.npy\n",
            "/root/.cache/pooch/8a10ee1ae6941d8b9bb543c954c793fa-EUYqUzpIjoJBui02QEo6q1wBSN1Zsi1ofE6I3G4B9LJn_Q.unzip/curlB.npy\n",
            "/root/.cache/pooch/8a10ee1ae6941d8b9bb543c954c793fa-EUYqUzpIjoJBui02QEo6q1wBSN1Zsi1ofE6I3G4B9LJn_Q.unzip/noiseMask.npy\n",
            "/root/.cache/pooch/8a10ee1ae6941d8b9bb543c954c793fa-EUYqUzpIjoJBui02QEo6q1wBSN1Zsi1ofE6I3G4B9LJn_Q.unzip/curlA.npy\n",
            "/root/.cache/pooch/8a10ee1ae6941d8b9bb543c954c793fa-EUYqUzpIjoJBui02QEo6q1wBSN1Zsi1ofE6I3G4B9LJn_Q.unzip/curlTau.npy\n"
          ]
        }
      ]
    },
    {
      "cell_type": "markdown",
      "source": [
        "And now that we have a set of files to load, let's set up a dictionary with the variable names as keys and the data in numpy array format as the values."
      ],
      "metadata": {
        "id": "bZxAvW1gBbO1"
      }
    },
    {
      "cell_type": "code",
      "source": [
        "# Let's read in the variable names from the filepaths\n",
        "var_names = []\n",
        "[var_names.append(path.split('/')[-1][:-4]) for path in files]\n",
        "\n",
        "# And build a dictionary of the data variables keyed to the filenames\n",
        "data_dict = {}\n",
        "for idx, val in enumerate(var_names):\n",
        "    data_dict[val] = np.load(files[idx]).T\n",
        "\n",
        "#We'll print the name of the variable loaded and the associated shape\n",
        "[print(f'Varname: {item[0]:<15} Shape: {item[1].shape}') for item in data_dict.items()];"
      ],
      "metadata": {
        "id": "b8OmoBGHBkwG",
        "colab": {
          "base_uri": "https://localhost:8080/"
        },
        "outputId": "967a659b-e8c8-4c8c-af67-5f55219cd9d1"
      },
      "execution_count": 4,
      "outputs": [
        {
          "output_type": "stream",
          "name": "stdout",
          "text": [
            "Varname: curlCori        Shape: (360, 720)\n",
            "Varname: BPT             Shape: (360, 720)\n",
            "Varname: curlB           Shape: (360, 720)\n",
            "Varname: noiseMask       Shape: (360, 720)\n",
            "Varname: curlA           Shape: (360, 720)\n",
            "Varname: curlTau         Shape: (360, 720)\n"
          ]
        }
      ]
    },
    {
      "cell_type": "markdown",
      "source": [
        "We now have a dictionary that uses the filename as the key! Feel free to explore the data (e.g., loading the keys, checking the shape of the arrays, plotting)"
      ],
      "metadata": {
        "id": "RMbhwWTunLvz"
      }
    },
    {
      "cell_type": "code",
      "source": [
        "#Feel free to explore the data dictionary\n"
      ],
      "metadata": {
        "id": "rG2pgeH5pB4f"
      },
      "execution_count": 7,
      "outputs": []
    },
    {
      "cell_type": "markdown",
      "source": [
        "We're eventually going to have an array of cluster classes that we're going to use to label dynamic regimes in the ocean. Let's make an array full of NaN (not-a-number) values that has the same shape as our other variables and store it in the data dictionary."
      ],
      "metadata": {
        "id": "xXwnzzbRtTYs"
      }
    },
    {
      "cell_type": "code",
      "source": [
        "data_dict['clusters'] = np.full_like(data_dict['BPT'],np.nan)"
      ],
      "metadata": {
        "id": "4VYRgr0cuHKg"
      },
      "execution_count": 8,
      "outputs": []
    },
    {
      "cell_type": "markdown",
      "source": [
        "## Reformatting as Xarray"
      ],
      "metadata": {
        "id": "pCumDPFEpFcf"
      }
    },
    {
      "cell_type": "markdown",
      "source": [
        "In the original paper, this data was loaded as numpy arrays. However, we'll take this opportunity to demonstrate the same procedure while relying on xarray. First, let's instantiate a blank dataset.<br><br>\n",
        "\n",
        "### Q1) Make a blank xarray dataset.<br>\n",
        "*Hint: Look at the xarray [documentation](https://duckduckgo.com/?q=xarray+dataset)*"
      ],
      "metadata": {
        "id": "vz_vQOCguax0"
      }
    },
    {
      "cell_type": "code",
      "source": [
        "# Make your blank dataset here! Instantiate the class without passing any parameters.\n",
        "ds = xr.Dataset()"
      ],
      "metadata": {
        "id": "JIPsLT6g-INq"
      },
      "execution_count": 15,
      "outputs": []
    },
    {
      "cell_type": "markdown",
      "source": [
        "<img src='https://unils-my.sharepoint.com/:i:/g/personal/tom_beucler_unil_ch/EZv_qqVz_h1Hio6Nq11ckScBb01bGb9jtNKzdqAg1TPrKQ?download=1'>\n",
        "<center> Image taken from the xarray <a href='https://xarray.pydata.org/en/stable/user-guide/data-structures.html#:~:text=Dataset-,xarray.,from%20the%20netCDF%20file%20format.'> <i>Data Structure documentation</i> </a> </center>\n",
        "\n",
        "In order to build the dataset, we're going to need a set of coordinate vectors that help us map out our data! For our data, we have two axes corresponding to longitude ($\\lambda$) and latitude ($\\phi$).\n",
        "\n",
        "We don't know much about how many lat/lon points we have, so let's explore one of the variables to make sense of the data the shape of one of the numpy arrays.\n",
        "\n",
        "### Q2) Visualize the data using a plot and printing the shape of the data to the console output."
      ],
      "metadata": {
        "id": "jJK9Ud9tp3_r"
      }
    },
    {
      "cell_type": "code",
      "source": [
        "#Complete the code\n",
        "# Let's print out an image of the Bottom Pressure Torques (BPT)\n",
        "plt.imshow( data_dict['BPT']  , origin='lower')"
      ],
      "metadata": {
        "id": "Kiw2tAT1D6Ny",
        "colab": {
          "base_uri": "https://localhost:8080/",
          "height": 330
        },
        "outputId": "6cf2fce6-fcdb-4253-aace-41bb128ff69a"
      },
      "execution_count": 16,
      "outputs": [
        {
          "output_type": "execute_result",
          "data": {
            "text/plain": [
              "<matplotlib.image.AxesImage at 0x7e95b8417310>"
            ]
          },
          "metadata": {},
          "execution_count": 16
        },
        {
          "output_type": "display_data",
          "data": {
            "text/plain": [
              "<Figure size 640x480 with 1 Axes>"
            ],
            "image/png": "[encoded data removed]"
          },
          "metadata": {}
        }
      ]
    },
    {
      "cell_type": "code",
      "source": [
        "# It will also be useful to store and print out the shape of the data\n",
        "data_shape = data_dict['BPT'].shape\n",
        "print(data_shape)"
      ],
      "metadata": {
        "id": "k6E_4MivCoWQ",
        "colab": {
          "base_uri": "https://localhost:8080/"
        },
        "outputId": "1072945a-4166-4c37-eea5-c199a50b14ac"
      },
      "execution_count": 12,
      "outputs": [
        {
          "output_type": "stream",
          "name": "stdout",
          "text": [
            "(360, 720)\n"
          ]
        }
      ]
    },
    {
      "cell_type": "markdown",
      "source": [
        "Now that we know how the resolution of our data, we can prepare a set of axis arrays. We will use these to organize the data we will feed into the dataset.\n",
        "\n",
        "### Q3) Prepare the latitude and longitude arrays to be used as axes for our dataset\n",
        "\n",
        "*Hint 1: You can build ordered numpy arrays using, e.g., [numpy.linspace](https://numpy.org/doc/stable/reference/generated/numpy.linspace.html) and [numpy.arange](https://numpy.org/doc/stable/reference/generated/numpy.arange.html)*\n",
        "\n",
        "*Hint 2: You can rely on the data_shape variable we loaded previously to know how many points you need along each axis*"
      ],
      "metadata": {
        "id": "aXyxepjm-N5z"
      }
    },
    {
      "cell_type": "code",
      "source": [
        "#Complete the code\n",
        "# Let's prepare the lat and lon axes for our data.\n",
        "lat = np.linspace(-90,90,360)\n",
        "lon = np.linspace(-180,180,720)"
      ],
      "metadata": {
        "id": "vwzO0ZWMNHKg"
      },
      "execution_count": 17,
      "outputs": []
    },
    {
      "cell_type": "markdown",
      "source": [
        "Now that we have the axes we need, we can build xarray [*data arrays*](https://xarray.pydata.org/en/stable/generated/xarray.DataArray.html) for each data variable. Since we'll be doing it several times, let's go ahead and defined a function that does this for us!\n",
        "\n",
        "### Q4) Define a function that takes in: 1) an array name, 2) a numpy array, 3) a lat vector, and 4) a lon vector. The function should return a dataArray with lat-lon as the coordinate dimensions"
      ],
      "metadata": {
        "id": "yxnAU_gjOqVo"
      }
    },
    {
      "cell_type": "code",
      "source": [
        "#Complete the code\n",
        "def np_to_xr(array_name, array, lat, lon):\n",
        "    #building the xarrray\n",
        "    da = xr.DataArray(data = array, # Data to be stored\n",
        "\n",
        "                  #set the name of dimensions for the dataArray\n",
        "                  dims = ['lat', 'lon'],\n",
        "\n",
        "                  #Set the dictionary pointing the name dimensions to np arrays\n",
        "                  coords = {'lat':lat,\n",
        "                            'lon':lon},\n",
        "\n",
        "                  name=array_name)\n",
        "    return da"
      ],
      "metadata": {
        "id": "7FCXLhYfPiQD"
      },
      "execution_count": 18,
      "outputs": []
    },
    {
      "cell_type": "markdown",
      "source": [
        "We're now ready to build our data array! Let's iterate through the items and merge our blank dataset with the data arrays we create.\n",
        "\n",
        "### Q5) Build the dataset from the data dictionary\n",
        "\n",
        "*Hint: We'll be using the xarray merge command to put everything together.*"
      ],
      "metadata": {
        "id": "l9xgQaM9Rrv1"
      }
    },
    {
      "cell_type": "code",
      "source": [
        "# The code in the notebook assumes you named your dataset ds. Change it to\n",
        "# whatever you used!\n",
        "\n",
        "# Complete the code\n",
        "for key, item in data_dict.items():\n",
        "    # Let's make use of our np_to_xr function to get the data as a dataArray\n",
        "    da = np_to_xr(key, item, lat, lon)\n",
        "\n",
        "    # Merge the dataSet with the dataArray here!\n",
        "    ds = xr.merge( [ds , da ] )"
      ],
      "metadata": {
        "id": "4pLXUfvLSZKf"
      },
      "execution_count": 19,
      "outputs": []
    },
    {
      "cell_type": "markdown",
      "source": [
        "Congratulations! You should now have a nicely set up xarray dataset. This let's you access a ton of nice features, e.g.:\n",
        "> Data plotting by calling, e.g., `ds.BPT.plot.imshow(cmap='ocean')`\n",
        ">\n",
        "> Find statistical measures of all variables at once! (e.g.: `ds.std()`, `ds.mean()`)"
      ],
      "metadata": {
        "id": "aC1Gq_q7WEWc"
      }
    },
    {
      "cell_type": "code",
      "source": [
        "# Play around with the dataset here if you'd like :)\n",
        "ds.BPT.plot.imshow(cmap='ocean')\n",
        "ds.std()\n",
        "ds.mean()"
      ],
      "metadata": {
        "id": "uag0JpWzaaS-",
        "colab": {
          "base_uri": "https://localhost:8080/",
          "height": 829
        },
        "outputId": "740c0596-8958-4f1c-e479-1b945b60b657"
      },
      "execution_count": 20,
      "outputs": [
        {
          "output_type": "stream",
          "name": "stderr",
          "text": [
            "/usr/local/lib/python3.10/dist-packages/numpy/lib/nanfunctions.py:1878: RuntimeWarning: Degrees of freedom <= 0 for slice.\n",
            "  var = nanvar(a, axis=axis, dtype=dtype, out=out, ddof=ddof,\n"
          ]
        },
        {
          "output_type": "execute_result",
          "data": {
            "text/plain": [
              "<xarray.Dataset>\n",
              "Dimensions:    ()\n",
              "Data variables:\n",
              "    curlCori   float64 7.743e-12\n",
              "    BPT        float64 1.02e-11\n",
              "    curlB      float64 2.928e-13\n",
              "    noiseMask  float64 1.0\n",
              "    curlA      float64 -1.287e-12\n",
              "    curlTau    float64 -1.696e-11\n",
              "    clusters   float64 nan"
            ],
            "text/html": [
              "<div><svg style=\"position: absolute; width: 0; height: 0; overflow: hidden\">\n",
              "<defs>\n",
              "<symbol id=\"icon-database\" viewBox=\"0 0 32 32\">\n",
              "<path d=\"M16 0c-8.837 0-16 2.239-16 5v4c0 2.761 7.163 5 16 5s16-2.239 16-5v-4c0-2.761-7.163-5-16-5z\"></path>\n",
              "<path d=\"M16 17c-8.837 0-16-2.239-16-5v6c0 2.761 7.163 5 16 5s16-2.239 16-5v-6c0 2.761-7.163 5-16 5z\"></path>\n",
              "<path d=\"M16 26c-8.837 0-16-2.239-16-5v6c0 2.761 7.163 5 16 5s16-2.239 16-5v-6c0 2.761-7.163 5-16 5z\"></path>\n",
              "</symbol>\n",
              "<symbol id=\"icon-file-text2\" viewBox=\"0 0 32 32\">\n",
              "<path d=\"M28.681 7.159c-0.694-0.947-1.662-2.053-2.724-3.116s-2.169-2.030-3.116-2.724c-1.612-1.182-2.393-1.319-2.841-1.319h-15.5c-1.378 0-2.5 1.121-2.5 2.5v27c0 1.378 1.122 2.5 2.5 2.5h23c1.378 0 2.5-1.122 2.5-2.5v-19.5c0-0.448-0.137-1.23-1.319-2.841zM24.543 5.457c0.959 0.959 1.712 1.825 2.268 2.543h-4.811v-4.811c0.718 0.556 1.584 1.309 2.543 2.268zM28 29.5c0 0.271-0.229 0.5-0.5 0.5h-23c-0.271 0-0.5-0.229-0.5-0.5v-27c0-0.271 0.229-0.5 0.5-0.5 0 0 15.499-0 15.5 0v7c0 0.552 0.448 1 1 1h7v19.5z\"></path>\n",
              "<path d=\"M23 26h-14c-0.552 0-1-0.448-1-1s0.448-1 1-1h14c0.552 0 1 0.448 1 1s-0.448 1-1 1z\"></path>\n",
              "<path d=\"M23 22h-14c-0.552 0-1-0.448-1-1s0.448-1 1-1h14c0.552 0 1 0.448 1 1s-0.448 1-1 1z\"></path>\n",
              "<path d=\"M23 18h-14c-0.552 0-1-0.448-1-1s0.448-1 1-1h14c0.552 0 1 0.448 1 1s-0.448 1-1 1z\"></path>\n",
              "</symbol>\n",
              "</defs>\n",
              "</svg>\n",
              "<style>/* CSS stylesheet for displaying xarray objects in jupyterlab.\n",
              " *\n",
              " */\n",
              "\n",
              ":root {\n",
              "  --xr-font-color0: var(--jp-content-font-color0, rgba(0, 0, 0, 1));\n",
              "  --xr-font-color2: var(--jp-content-font-color2, rgba(0, 0, 0, 0.54));\n",
              "  --xr-font-color3: var(--jp-content-font-color3, rgba(0, 0, 0, 0.38));\n",
              "  --xr-border-color: var(--jp-border-color2, #e0e0e0);\n",
              "  --xr-disabled-color: var(--jp-layout-color3, #bdbdbd);\n",
              "  --xr-background-color: var(--jp-layout-color0, white);\n",
              "  --xr-background-color-row-even: var(--jp-layout-color1, white);\n",
              "  --xr-background-color-row-odd: var(--jp-layout-color2, #eeeeee);\n",
              "}\n",
              "\n",
              "html[theme=dark],\n",
              "body[data-theme=dark],\n",
              "body.vscode-dark {\n",
              "  --xr-font-color0: rgba(255, 255, 255, 1);\n",
              "  --xr-font-color2: rgba(255, 255, 255, 0.54);\n",
              "  --xr-font-color3: rgba(255, 255, 255, 0.38);\n",
              "  --xr-border-color: #1F1F1F;\n",
              "  --xr-disabled-color: #515151;\n",
              "  --xr-background-color: #111111;\n",
              "  --xr-background-color-row-even: #111111;\n",
              "  --xr-background-color-row-odd: #313131;\n",
              "}\n",
              "\n",
              ".xr-wrap {\n",
              "  display: block !important;\n",
              "  min-width: 300px;\n",
              "  max-width: 700px;\n",
              "}\n",
              "\n",
              ".xr-text-repr-fallback {\n",
              "  /* fallback to plain text repr when CSS is not injected (untrusted notebook) */\n",
              "  display: none;\n",
              "}\n",
              "\n",
              ".xr-header {\n",
              "  padding-top: 6px;\n",
              "  padding-bottom: 6px;\n",
              "  margin-bottom: 4px;\n",
              "  border-bottom: solid 1px var(--xr-border-color);\n",
              "}\n",
              "\n",
              ".xr-header > div,\n",
              ".xr-header > ul {\n",
              "  display: inline;\n",
              "  margin-top: 0;\n",
              "  margin-bottom: 0;\n",
              "}\n",
              "\n",
              ".xr-obj-type,\n",
              ".xr-array-name {\n",
              "  margin-left: 2px;\n",
              "  margin-right: 10px;\n",
              "}\n",
              "\n",
              ".xr-obj-type {\n",
              "  color: var(--xr-font-color2);\n",
              "}\n",
              "\n",
              ".xr-sections {\n",
              "  padding-left: 0 !important;\n",
              "  display: grid;\n",
              "  grid-template-columns: 150px auto auto 1fr 20px 20px;\n",
              "}\n",
              "\n",
              ".xr-section-item {\n",
              "  display: contents;\n",
              "}\n",
              "\n",
              ".xr-section-item input {\n",
              "  display: none;\n",
              "}\n",
              "\n",
              ".xr-section-item input + label {\n",
              "  color: var(--xr-disabled-color);\n",
              "}\n",
              "\n",
              ".xr-section-item input:enabled + label {\n",
              "  cursor: pointer;\n",
              "  color: var(--xr-font-color2);\n",
              "}\n",
              "\n",
              ".xr-section-item input:enabled + label:hover {\n",
              "  color: var(--xr-font-color0);\n",
              "}\n",
              "\n",
              ".xr-section-summary {\n",
              "  grid-column: 1;\n",
              "  color: var(--xr-font-color2);\n",
              "  font-weight: 500;\n",
              "}\n",
              "\n",
              ".xr-section-summary > span {\n",
              "  display: inline-block;\n",
              "  padding-left: 0.5em;\n",
              "}\n",
              "\n",
              ".xr-section-summary-in:disabled + label {\n",
              "  color: var(--xr-font-color2);\n",
              "}\n",
              "\n",
              ".xr-section-summary-in + label:before {\n",
              "  display: inline-block;\n",
              "  content: '►';\n",
              "  font-size: 11px;\n",
              "  width: 15px;\n",
              "  text-align: center;\n",
              "}\n",
              "\n",
              ".xr-section-summary-in:disabled + label:before {\n",
              "  color: var(--xr-disabled-color);\n",
              "}\n",
              "\n",
              ".xr-section-summary-in:checked + label:before {\n",
              "  content: '▼';\n",
              "}\n",
              "\n",
              ".xr-section-summary-in:checked + label > span {\n",
              "  display: none;\n",
              "}\n",
              "\n",
              ".xr-section-summary,\n",
              ".xr-section-inline-details {\n",
              "  padding-top: 4px;\n",
              "  padding-bottom: 4px;\n",
              "}\n",
              "\n",
              ".xr-section-inline-details {\n",
              "  grid-column: 2 / -1;\n",
              "}\n",
              "\n",
              ".xr-section-details {\n",
              "  display: none;\n",
              "  grid-column: 1 / -1;\n",
              "  margin-bottom: 5px;\n",
              "}\n",
              "\n",
              ".xr-section-summary-in:checked ~ .xr-section-details {\n",
              "  display: contents;\n",
              "}\n",
              "\n",
              ".xr-array-wrap {\n",
              "  grid-column: 1 / -1;\n",
              "  display: grid;\n",
              "  grid-template-columns: 20px auto;\n",
              "}\n",
              "\n",
              ".xr-array-wrap > label {\n",
              "  grid-column: 1;\n",
              "  vertical-align: top;\n",
              "}\n",
              "\n",
              ".xr-preview {\n",
              "  color: var(--xr-font-color3);\n",
              "}\n",
              "\n",
              ".xr-array-preview,\n",
              ".xr-array-data {\n",
              "  padding: 0 5px !important;\n",
              "  grid-column: 2;\n",
              "}\n",
              "\n",
              ".xr-array-data,\n",
              ".xr-array-in:checked ~ .xr-array-preview {\n",
              "  display: none;\n",
              "}\n",
              "\n",
              ".xr-array-in:checked ~ .xr-array-data,\n",
              ".xr-array-preview {\n",
              "  display: inline-block;\n",
              "}\n",
              "\n",
              ".xr-dim-list {\n",
              "  display: inline-block !important;\n",
              "  list-style: none;\n",
              "  padding: 0 !important;\n",
              "  margin: 0;\n",
              "}\n",
              "\n",
              ".xr-dim-list li {\n",
              "  display: inline-block;\n",
              "  padding: 0;\n",
              "  margin: 0;\n",
              "}\n",
              "\n",
              ".xr-dim-list:before {\n",
              "  content: '(';\n",
              "}\n",
              "\n",
              ".xr-dim-list:after {\n",
              "  content: ')';\n",
              "}\n",
              "\n",
              ".xr-dim-list li:not(:last-child):after {\n",
              "  content: ',';\n",
              "  padding-right: 5px;\n",
              "}\n",
              "\n",
              ".xr-has-index {\n",
              "  font-weight: bold;\n",
              "}\n",
              "\n",
              ".xr-var-list,\n",
              ".xr-var-item {\n",
              "  display: contents;\n",
              "}\n",
              "\n",
              ".xr-var-item > div,\n",
              ".xr-var-item label,\n",
              ".xr-var-item > .xr-var-name span {\n",
              "  background-color: var(--xr-background-color-row-even);\n",
              "  margin-bottom: 0;\n",
              "}\n",
              "\n",
              ".xr-var-item > .xr-var-name:hover span {\n",
              "  padding-right: 5px;\n",
              "}\n",
              "\n",
              ".xr-var-list > li:nth-child(odd) > div,\n",
              ".xr-var-list > li:nth-child(odd) > label,\n",
              ".xr-var-list > li:nth-child(odd) > .xr-var-name span {\n",
              "  background-color: var(--xr-background-color-row-odd);\n",
              "}\n",
              "\n",
              ".xr-var-name {\n",
              "  grid-column: 1;\n",
              "}\n",
              "\n",
              ".xr-var-dims {\n",
              "  grid-column: 2;\n",
              "}\n",
              "\n",
              ".xr-var-dtype {\n",
              "  grid-column: 3;\n",
              "  text-align: right;\n",
              "  color: var(--xr-font-color2);\n",
              "}\n",
              "\n",
              ".xr-var-preview {\n",
              "  grid-column: 4;\n",
              "}\n",
              "\n",
              ".xr-index-preview {\n",
              "  grid-column: 2 / 5;\n",
              "  color: var(--xr-font-color2);\n",
              "}\n",
              "\n",
              ".xr-var-name,\n",
              ".xr-var-dims,\n",
              ".xr-var-dtype,\n",
              ".xr-preview,\n",
              ".xr-attrs dt {\n",
              "  white-space: nowrap;\n",
              "  overflow: hidden;\n",
              "  text-overflow: ellipsis;\n",
              "  padding-right: 10px;\n",
              "}\n",
              "\n",
              ".xr-var-name:hover,\n",
              ".xr-var-dims:hover,\n",
              ".xr-var-dtype:hover,\n",
              ".xr-attrs dt:hover {\n",
              "  overflow: visible;\n",
              "  width: auto;\n",
              "  z-index: 1;\n",
              "}\n",
              "\n",
              ".xr-var-attrs,\n",
              ".xr-var-data,\n",
              ".xr-index-data {\n",
              "  display: none;\n",
              "  background-color: var(--xr-background-color) !important;\n",
              "  padding-bottom: 5px !important;\n",
              "}\n",
              "\n",
              ".xr-var-attrs-in:checked ~ .xr-var-attrs,\n",
              ".xr-var-data-in:checked ~ .xr-var-data,\n",
              ".xr-index-data-in:checked ~ .xr-index-data {\n",
              "  display: block;\n",
              "}\n",
              "\n",
              ".xr-var-data > table {\n",
              "  float: right;\n",
              "}\n",
              "\n",
              ".xr-var-name span,\n",
              ".xr-var-data,\n",
              ".xr-index-name div,\n",
              ".xr-index-data,\n",
              ".xr-attrs {\n",
              "  padding-left: 25px !important;\n",
              "}\n",
              "\n",
              ".xr-attrs,\n",
              ".xr-var-attrs,\n",
              ".xr-var-data,\n",
              ".xr-index-data {\n",
              "  grid-column: 1 / -1;\n",
              "}\n",
              "\n",
              "dl.xr-attrs {\n",
              "  padding: 0;\n",
              "  margin: 0;\n",
              "  display: grid;\n",
              "  grid-template-columns: 125px auto;\n",
              "}\n",
              "\n",
              ".xr-attrs dt,\n",
              ".xr-attrs dd {\n",
              "  padding: 0;\n",
              "  margin: 0;\n",
              "  float: left;\n",
              "  padding-right: 10px;\n",
              "  width: auto;\n",
              "}\n",
              "\n",
              ".xr-attrs dt {\n",
              "  font-weight: normal;\n",
              "  grid-column: 1;\n",
              "}\n",
              "\n",
              ".xr-attrs dt:hover span {\n",
              "  display: inline-block;\n",
              "  background: var(--xr-background-color);\n",
              "  padding-right: 10px;\n",
              "}\n",
              "\n",
              ".xr-attrs dd {\n",
              "  grid-column: 2;\n",
              "  white-space: pre-wrap;\n",
              "  word-break: break-all;\n",
              "}\n",
              "\n",
              ".xr-icon-database,\n",
              ".xr-icon-file-text2,\n",
              ".xr-no-icon {\n",
              "  display: inline-block;\n",
              "  vertical-align: middle;\n",
              "  width: 1em;\n",
              "  height: 1.5em !important;\n",
              "  stroke-width: 0;\n",
              "  stroke: currentColor;\n",
              "  fill: currentColor;\n",
              "}\n",
              "</style><pre class='xr-text-repr-fallback'>&lt;xarray.Dataset&gt;\n",
              "Dimensions:    ()\n",
              "Data variables:\n",
              "    curlCori   float64 7.743e-12\n",
              "    BPT        float64 1.02e-11\n",
              "    curlB      float64 2.928e-13\n",
              "    noiseMask  float64 1.0\n",
              "    curlA      float64 -1.287e-12\n",
              "    curlTau    float64 -1.696e-11\n",
              "    clusters   float64 nan</pre><div class='xr-wrap' style='display:none'><div class='xr-header'><div class='xr-obj-type'>xarray.Dataset</div></div><ul class='xr-sections'><li class='xr-section-item'><input id='section-8cfc3363-dc42-4260-89a3-b3738a51a5a8' class='xr-section-summary-in' type='checkbox' disabled ><label for='section-8cfc3363-dc42-4260-89a3-b3738a51a5a8' class='xr-section-summary'  title='Expand/collapse section'>Dimensions:</label><div class='xr-section-inline-details'></div><div class='xr-section-details'></div></li><li class='xr-section-item'><input id='section-1845e495-7bd3-495b-b9e1-dc7d78c5acb3' class='xr-section-summary-in' type='checkbox' disabled ><label for='section-1845e495-7bd3-495b-b9e1-dc7d78c5acb3' class='xr-section-summary'  title='Expand/collapse section'>Coordinates: <span>(0)</span></label><div class='xr-section-inline-details'></div><div class='xr-section-details'><ul class='xr-var-list'></ul></div></li><li class='xr-section-item'><input id='section-d099c705-21f8-4ceb-b253-639642c2cb64' class='xr-section-summary-in' type='checkbox'  checked><label for='section-d099c705-21f8-4ceb-b253-639642c2cb64' class='xr-section-summary' >Data variables: <span>(7)</span></label><div class='xr-section-inline-details'></div><div class='xr-section-details'><ul class='xr-var-list'><li class='xr-var-item'><div class='xr-var-name'><span>curlCori</span></div><div class='xr-var-dims'>()</div><div class='xr-var-dtype'>float64</div><div class='xr-var-preview xr-preview'>7.743e-12</div><input id='attrs-c6850078-be65-425b-aedd-ec03cd69cba1' class='xr-var-attrs-in' type='checkbox' disabled><label for='attrs-c6850078-be65-425b-aedd-ec03cd69cba1' title='Show/Hide attributes'><svg class='icon xr-icon-file-text2'><use xlink:href='#icon-file-text2'></use></svg></label><input id='data-300f518e-bcda-4a09-9384-5402c530d967' class='xr-var-data-in' type='checkbox'><label for='data-300f518e-bcda-4a09-9384-5402c530d967' title='Show/Hide data repr'><svg class='icon xr-icon-database'><use xlink:href='#icon-database'></use></svg></label><div class='xr-var-attrs'><dl class='xr-attrs'></dl></div><div class='xr-var-data'><pre>array(7.74320585e-12)</pre></div></li><li class='xr-var-item'><div class='xr-var-name'><span>BPT</span></div><div class='xr-var-dims'>()</div><div class='xr-var-dtype'>float64</div><div class='xr-var-preview xr-preview'>1.02e-11</div><input id='attrs-ee02cc42-b4bc-495d-9b5b-762e1ff09e8e' class='xr-var-attrs-in' type='checkbox' disabled><label for='attrs-ee02cc42-b4bc-495d-9b5b-762e1ff09e8e' title='Show/Hide attributes'><svg class='icon xr-icon-file-text2'><use xlink:href='#icon-file-text2'></use></svg></label><input id='data-e5ca7da6-776e-49b7-9807-ba9963b9d376' class='xr-var-data-in' type='checkbox'><label for='data-e5ca7da6-776e-49b7-9807-ba9963b9d376' title='Show/Hide data repr'><svg class='icon xr-icon-database'><use xlink:href='#icon-database'></use></svg></label><div class='xr-var-attrs'><dl class='xr-attrs'></dl></div><div class='xr-var-data'><pre>array(1.02047112e-11)</pre></div></li><li class='xr-var-item'><div class='xr-var-name'><span>curlB</span></div><div class='xr-var-dims'>()</div><div class='xr-var-dtype'>float64</div><div class='xr-var-preview xr-preview'>2.928e-13</div><input id='attrs-c8aac314-1fc4-44d8-9053-ac4af1458daf' class='xr-var-attrs-in' type='checkbox' disabled><label for='attrs-c8aac314-1fc4-44d8-9053-ac4af1458daf' title='Show/Hide attributes'><svg class='icon xr-icon-file-text2'><use xlink:href='#icon-file-text2'></use></svg></label><input id='data-42b92dcf-3bb5-43db-87f9-7ca7bbd018f2' class='xr-var-data-in' type='checkbox'><label for='data-42b92dcf-3bb5-43db-87f9-7ca7bbd018f2' title='Show/Hide data repr'><svg class='icon xr-icon-database'><use xlink:href='#icon-database'></use></svg></label><div class='xr-var-attrs'><dl class='xr-attrs'></dl></div><div class='xr-var-data'><pre>array(2.92802287e-13)</pre></div></li><li class='xr-var-item'><div class='xr-var-name'><span>noiseMask</span></div><div class='xr-var-dims'>()</div><div class='xr-var-dtype'>float64</div><div class='xr-var-preview xr-preview'>1.0</div><input id='attrs-813eee67-6027-4b6f-9f4f-2781d2336a36' class='xr-var-attrs-in' type='checkbox' disabled><label for='attrs-813eee67-6027-4b6f-9f4f-2781d2336a36' title='Show/Hide attributes'><svg class='icon xr-icon-file-text2'><use xlink:href='#icon-file-text2'></use></svg></label><input id='data-84769f1f-e0e0-4387-b4ce-3665f4b8341d' class='xr-var-data-in' type='checkbox'><label for='data-84769f1f-e0e0-4387-b4ce-3665f4b8341d' title='Show/Hide data repr'><svg class='icon xr-icon-database'><use xlink:href='#icon-database'></use></svg></label><div class='xr-var-attrs'><dl class='xr-attrs'></dl></div><div class='xr-var-data'><pre>array(1.)</pre></div></li><li class='xr-var-item'><div class='xr-var-name'><span>curlA</span></div><div class='xr-var-dims'>()</div><div class='xr-var-dtype'>float64</div><div class='xr-var-preview xr-preview'>-1.287e-12</div><input id='attrs-3df553a0-fbb4-4af5-ab58-7f5260ac3166' class='xr-var-attrs-in' type='checkbox' disabled><label for='attrs-3df553a0-fbb4-4af5-ab58-7f5260ac3166' title='Show/Hide attributes'><svg class='icon xr-icon-file-text2'><use xlink:href='#icon-file-text2'></use></svg></label><input id='data-0e6aefb6-4e6b-42fe-b75f-2abb2213ea82' class='xr-var-data-in' type='checkbox'><label for='data-0e6aefb6-4e6b-42fe-b75f-2abb2213ea82' title='Show/Hide data repr'><svg class='icon xr-icon-database'><use xlink:href='#icon-database'></use></svg></label><div class='xr-var-attrs'><dl class='xr-attrs'></dl></div><div class='xr-var-data'><pre>array(-1.28661102e-12)</pre></div></li><li class='xr-var-item'><div class='xr-var-name'><span>curlTau</span></div><div class='xr-var-dims'>()</div><div class='xr-var-dtype'>float64</div><div class='xr-var-preview xr-preview'>-1.696e-11</div><input id='attrs-6716f5a0-d865-458f-9064-9add6c3c9096' class='xr-var-attrs-in' type='checkbox' disabled><label for='attrs-6716f5a0-d865-458f-9064-9add6c3c9096' title='Show/Hide attributes'><svg class='icon xr-icon-file-text2'><use xlink:href='#icon-file-text2'></use></svg></label><input id='data-8db4b1df-5739-47fb-bc52-96506a61bf9a' class='xr-var-data-in' type='checkbox'><label for='data-8db4b1df-5739-47fb-bc52-96506a61bf9a' title='Show/Hide data repr'><svg class='icon xr-icon-database'><use xlink:href='#icon-database'></use></svg></label><div class='xr-var-attrs'><dl class='xr-attrs'></dl></div><div class='xr-var-data'><pre>array(-1.69617275e-11)</pre></div></li><li class='xr-var-item'><div class='xr-var-name'><span>clusters</span></div><div class='xr-var-dims'>()</div><div class='xr-var-dtype'>float64</div><div class='xr-var-preview xr-preview'>nan</div><input id='attrs-d1b37a8d-4fab-4e14-8731-e07f9a894623' class='xr-var-attrs-in' type='checkbox' disabled><label for='attrs-d1b37a8d-4fab-4e14-8731-e07f9a894623' title='Show/Hide attributes'><svg class='icon xr-icon-file-text2'><use xlink:href='#icon-file-text2'></use></svg></label><input id='data-9f785b7c-b0ea-4601-8223-4281557ea104' class='xr-var-data-in' type='checkbox'><label for='data-9f785b7c-b0ea-4601-8223-4281557ea104' title='Show/Hide data repr'><svg class='icon xr-icon-database'><use xlink:href='#icon-database'></use></svg></label><div class='xr-var-attrs'><dl class='xr-attrs'></dl></div><div class='xr-var-data'><pre>array(nan)</pre></div></li></ul></div></li><li class='xr-section-item'><input id='section-703bd624-4aef-4ea8-ba16-e797465deafb' class='xr-section-summary-in' type='checkbox' disabled ><label for='section-703bd624-4aef-4ea8-ba16-e797465deafb' class='xr-section-summary'  title='Expand/collapse section'>Indexes: <span>(0)</span></label><div class='xr-section-inline-details'></div><div class='xr-section-details'><ul class='xr-var-list'></ul></div></li><li class='xr-section-item'><input id='section-ead42754-38a4-4702-b056-d224ba6ef61f' class='xr-section-summary-in' type='checkbox' disabled ><label for='section-ead42754-38a4-4702-b056-d224ba6ef61f' class='xr-section-summary'  title='Expand/collapse section'>Attributes: <span>(0)</span></label><div class='xr-section-inline-details'></div><div class='xr-section-details'><dl class='xr-attrs'></dl></div></li></ul></div></div>"
            ]
          },
          "metadata": {},
          "execution_count": 20
        },
        {
          "output_type": "display_data",
          "data": {
            "text/plain": [
              "<Figure size 640x480 with 2 Axes>"
            ],
            "image/png": "[encoded data removed]"
          },
          "metadata": {}
        }
      ]
    },
    {
      "cell_type": "markdown",
      "source": [
        "Now we want to find clusters of data considering each grid point as a datapoint with 5 dimensional data. However, we went through a lot of work to get the data nicely associated with a lat and lon - do we really want to undo that?\n",
        "\n",
        "Luckily, xarray developers foresaw the need to group dimensions together. Let's create a 'flat' version of our dataset using the [`stack`](https://xarray.pydata.org/en/stable/generated/xarray.DataArray.stack.html) method. Let's make a flattened version of our dataset.\n",
        "\n",
        "### Q6) Store a flattened version of our dataset\n",
        "\n",
        "*Hint 1: You'll need to pass a dictionary with the 'new' stacked dimension name as the key and the 'flattened' dimensions as the values.*\n",
        "\n",
        "*Hint 2: xarrays have a ['.values' attribute](https://xarray.pydata.org/en/stable/generated/xarray.DataArray.values.html) that return their data as a numpy array.*"
      ],
      "metadata": {
        "id": "vEfuD2O8aZ4w"
      }
    },
    {
      "cell_type": "code",
      "source": [
        "# Complete the code\n",
        "# Let's store the stacked version of our dataset\n",
        "stacked = ds.stack( { 'flattened_dim' :[ 'lat' , 'lon' ] } )"
      ],
      "metadata": {
        "id": "G4e2NDipb0Tr"
      },
      "execution_count": 21,
      "outputs": []
    },
    {
      "cell_type": "code",
      "source": [
        "# And verify the shape of our data\n",
        "print(stacked.to_array().values.shape)"
      ],
      "metadata": {
        "id": "UQt4-fFACtUm",
        "colab": {
          "base_uri": "https://localhost:8080/"
        },
        "outputId": "ec61bd0e-9c9f-402c-dfbe-7876e6cd7267"
      },
      "execution_count": 22,
      "outputs": [
        {
          "output_type": "stream",
          "name": "stdout",
          "text": [
            "(7, 259200)\n"
          ]
        }
      ]
    },
    {
      "cell_type": "markdown",
      "source": [
        "So far we've ignored an important point - we're supposed to have 5 variables, not 6! As you may have guessed, `noiseMask` helps us throw away data we dont want (e.g., from land mass or bad pixels).\n",
        "\n",
        "We're now going to clean up the stacked dataset using the noise mask. Relax and read through the code, since there won't be a question in this part :)"
      ],
      "metadata": {
        "id": "MZGPnmooffKy"
      }
    },
    {
      "cell_type": "code",
      "source": [
        "# Let's redefine stacked as all the points where noiseMask = 1, since noisemask\n",
        "# is binary data.\n",
        "\n",
        "print(f'Dataset shape before processing: {stacked.to_array().values.shape}')\n",
        "\n",
        "print(\"Let's do some data cleaning!\")\n",
        "print(f'Points before cleaning: {len(stacked.BPT)}')\n",
        "stacked = stacked.where(stacked.noiseMask==1, drop=True)\n",
        "print(f'Points after cleaning: {len(stacked.BPT)}')"
      ],
      "metadata": {
        "id": "sbXscaE_fcOj",
        "colab": {
          "base_uri": "https://localhost:8080/"
        },
        "outputId": "fcad7859-1403-48a0-a757-5ff693ba7b60"
      },
      "execution_count": 23,
      "outputs": [
        {
          "output_type": "stream",
          "name": "stdout",
          "text": [
            "Dataset shape before processing: (7, 259200)\n",
            "Let's do some data cleaning!\n",
            "Points before cleaning: 259200\n",
            "Points after cleaning: 149714\n"
          ]
        }
      ]
    },
    {
      "cell_type": "code",
      "source": [
        "# We also no longer need the noiseMask variable, so we can just drop it.\n",
        "\n",
        "print('And drop the noisemask variable...')\n",
        "print(f'Before dropping: {stacked.to_array().values.shape}')\n",
        "stacked = stacked.drop('noiseMask')\n",
        "print(f'Dataset shape after processing: {stacked.to_array().values.shape}')"
      ],
      "metadata": {
        "id": "crX5HoD3C3Ls",
        "colab": {
          "base_uri": "https://localhost:8080/"
        },
        "outputId": "575078c8-46de-4424-bba3-e3fcd0a4ef8a"
      },
      "execution_count": 24,
      "outputs": [
        {
          "output_type": "stream",
          "name": "stdout",
          "text": [
            "And drop the noisemask variable...\n",
            "Before dropping: (7, 149714)\n",
            "Dataset shape after processing: (6, 149714)\n"
          ]
        }
      ]
    },
    {
      "cell_type": "markdown",
      "source": [
        "We now have several thousand points which we want to divide into clusters using the kmeans clustering algorithm (you can check out the documentation for scikit's implementation of kmeans [here](https://scikit-learn.org/stable/modules/generated/sklearn.cluster.KMeans.html)).\n",
        "\n",
        "You'll note that the algorithm expects the input data `X` to be fed as `(n_samples, n_features)`. This is the opposite of what we have! Let's go ahead and make a copy to a numpy array has the axes in the right order.\n",
        "\n",
        "You'll need xarray's [`.to_array()`](https://xarray.pydata.org/en/stable/generated/xarray.Dataset.to_array.html) method and [`.values`](https://xarray.pydata.org/en/stable/generated/xarray.DataArray.values.html) parameter, as well as numpy's [`.moveaxis`](https://numpy.org/doc/stable/reference/generated/numpy.moveaxis.html) method.\n",
        "\n",
        "### Q7) Load the datapoints into a numpy array following the convention where the 0th axis corresponds to the samples and the 1st axis corresponds to the features."
      ],
      "metadata": {
        "id": "5Pol90vsU_wv"
      }
    },
    {
      "cell_type": "code",
      "source": [
        "# Complete the code\n",
        "input_data = np.moveaxis(stacked.drop('clusters').to_array().values,  # data to reshape. Note that cluster is dropped since not needed for training\n",
        "                         0,          # source axis as integer,\n",
        "                         1)          # destination axis as integer"
      ],
      "metadata": {
        "id": "uu0AVVkPeTzC"
      },
      "execution_count": 25,
      "outputs": []
    },
    {
      "cell_type": "code",
      "source": [
        "# Does the input data look the way it's supposed to? Print the shape.\n",
        "print(input_data.shape)"
      ],
      "metadata": {
        "id": "Vi9GZ-XsC6Nd",
        "colab": {
          "base_uri": "https://localhost:8080/"
        },
        "outputId": "bb3e2e3a-6706-4b00-e1df-adb8e29e6eb6"
      },
      "execution_count": 27,
      "outputs": [
        {
          "output_type": "stream",
          "name": "stdout",
          "text": [
            "(149714, 5)\n"
          ]
        }
      ]
    },
    {
      "cell_type": "markdown",
      "source": [
        "## Kmeans clustering"
      ],
      "metadata": {
        "id": "Sd7dfacgRCuL"
      }
    },
    {
      "cell_type": "markdown",
      "source": [
        "In previous classes we discussed the importance of the scaling the data before implementing our algorithms. Now that our data is all but ready to be fed into an algorithm, let's make sure that it's been scaled.\n",
        "\n",
        "### Q8) Scale the input data\n",
        "\n",
        "*Hint 1: Import the [`StandardScaler`](https://scikit-learn.org/stable/modules/generated/sklearn.preprocessing.StandardScaler.html) class from scikit and instantiate it*\n",
        "\n",
        "*Hint 2: Update the input array to the one returned by the [`.fit_transform(X)`](https://scikit-learn.org/stable/modules/generated/sklearn.preprocessing.StandardScaler.html#sklearn.preprocessing.StandardScaler.fit_transform) method*"
      ],
      "metadata": {
        "id": "AoZSkMieiL9O"
      }
    },
    {
      "cell_type": "code",
      "source": [
        "#Write your scaling code here\n",
        "from sklearn.preprocessing import StandardScaler\n",
        "StdS = StandardScaler()\n",
        "input_data = StdS.fit_transform(input_data)\n",
        "input_data"
      ],
      "metadata": {
        "id": "D2sZPWf1ignO",
        "colab": {
          "base_uri": "https://localhost:8080/"
        },
        "outputId": "9a443dda-0902-4a18-dfea-aa83ba126301"
      },
      "execution_count": 28,
      "outputs": [
        {
          "output_type": "execute_result",
          "data": {
            "text/plain": [
              "array([[ 0.1509093 , -0.31320881,  0.67800659,  0.31859658, -0.23648994],\n",
              "       [-0.22335965,  0.42544446,  0.76686035, -0.46109029, -1.00868346],\n",
              "       [-0.54842722,  0.93111494,  0.53825696, -0.79838164, -1.44560604],\n",
              "       ...,\n",
              "       [-0.22168218,  0.15571834,  0.08235576,  0.13295234,  0.02254375],\n",
              "       [-0.22212335,  0.15707313,  0.08173668,  0.13072359,  0.02321305],\n",
              "       [-0.22254467,  0.15841198,  0.08114023,  0.12848032,  0.02389428]])"
            ]
          },
          "metadata": {},
          "execution_count": 28
        }
      ]
    },
    {
      "cell_type": "markdown",
      "source": [
        "Now we're finally ready to train our algorithm! Let's load up the kmeans model and find clusters in our data.\n",
        "\n",
        "### Q9) Instantiate the kmeans clustering algorithm, and then fit it using 50 clusters, trying out 10 different initial centroids.\n",
        "\n",
        "*Hint 1: `sklearn.cluster` was imported as `cluser` during the notebook setup! [Here is the scikit `KMeans` documentation](https://scikit-learn.org/stable/modules/generated/sklearn.cluster.KMeans.html).*\n",
        "\n",
        "*Hint 2: Use the `fit_predict` method to organize the data into clusters*\n",
        "\n",
        "*Warning! : Fitting the data may take some time (under a minute during the testing of the notebook)"
      ],
      "metadata": {
        "id": "_z3e6dU8rInv"
      }
    },
    {
      "cell_type": "code",
      "source": [
        "# Complete the code\n",
        "kmeans = cluster.KMeans(n_clusters =50,  # Number of clusters\n",
        "                        random_state =42, # setting a random state\n",
        "                        n_init =10, # Number of initial centroid states to try\n",
        "                       verbose = 1)   # Verbosity so we know things are working"
      ],
      "metadata": {
        "id": "DtYyiksRrHPm"
      },
      "execution_count": 29,
      "outputs": []
    },
    {
      "cell_type": "code",
      "source": [
        "cluster_labels = kmeans.fit_predict(input_data) # Feed in out scaled input data!"
      ],
      "metadata": {
        "id": "ohuw1WFiC8kS",
        "colab": {
          "base_uri": "https://localhost:8080/"
        },
        "outputId": "d60fb9a6-a8bb-4de2-c6ee-21865bc83f5a"
      },
      "execution_count": 30,
      "outputs": [
        {
          "output_type": "stream",
          "name": "stdout",
          "text": [
            "Initialization complete\n",
            "Iteration 0, inertia 178083.89703048766.\n",
            "Iteration 1, inertia 159390.21041351298.\n",
            "Iteration 2, inertia 154958.53378937003.\n",
            "Iteration 3, inertia 153364.6906988097.\n",
            "Iteration 4, inertia 152324.72153485252.\n",
            "Iteration 5, inertia 151710.9167395463.\n",
            "Iteration 6, inertia 151215.18572026718.\n",
            "Iteration 7, inertia 150798.56641029703.\n",
            "Iteration 8, inertia 150503.84122090333.\n",
            "Iteration 9, inertia 150281.32586012976.\n",
            "Iteration 10, inertia 150105.95237949066.\n",
            "Iteration 11, inertia 149943.23463400244.\n",
            "Iteration 12, inertia 149800.1544897156.\n",
            "Iteration 13, inertia 149688.51613387445.\n",
            "Iteration 14, inertia 149583.5026197455.\n",
            "Iteration 15, inertia 149483.2763791494.\n",
            "Iteration 16, inertia 149393.45781591441.\n",
            "Iteration 17, inertia 149312.77247441385.\n",
            "Iteration 18, inertia 149250.21704388168.\n",
            "Iteration 19, inertia 149190.28168967392.\n",
            "Iteration 20, inertia 149124.99589589806.\n",
            "Iteration 21, inertia 149022.52036578264.\n",
            "Iteration 22, inertia 148931.91982966047.\n",
            "Iteration 23, inertia 148881.302942448.\n",
            "Iteration 24, inertia 148816.3560276227.\n",
            "Iteration 25, inertia 148776.76117863043.\n",
            "Iteration 26, inertia 148741.6086170072.\n",
            "Iteration 27, inertia 148719.2617312301.\n",
            "Iteration 28, inertia 148703.93326699806.\n",
            "Iteration 29, inertia 148692.22729303813.\n",
            "Iteration 30, inertia 148682.64309787488.\n",
            "Iteration 31, inertia 148672.61712235265.\n",
            "Iteration 32, inertia 148663.90789397885.\n",
            "Iteration 33, inertia 148641.68347778838.\n",
            "Iteration 34, inertia 148634.29195595288.\n",
            "Iteration 35, inertia 148624.43161181133.\n",
            "Iteration 36, inertia 148613.84541832458.\n",
            "Iteration 37, inertia 148603.78331589495.\n",
            "Iteration 38, inertia 148595.42386706005.\n",
            "Iteration 39, inertia 148587.1784598857.\n",
            "Iteration 40, inertia 148578.11542856574.\n",
            "Iteration 41, inertia 148567.90076078434.\n",
            "Iteration 42, inertia 148559.02322317427.\n",
            "Iteration 43, inertia 148550.21131428552.\n",
            "Iteration 44, inertia 148542.2734119076.\n",
            "Iteration 45, inertia 148533.63291469176.\n",
            "Iteration 46, inertia 148525.56020105613.\n",
            "Iteration 47, inertia 148517.9865819187.\n",
            "Iteration 48, inertia 148510.0633317366.\n",
            "Iteration 49, inertia 148502.99309017576.\n",
            "Iteration 50, inertia 148495.897611984.\n",
            "Iteration 51, inertia 148489.15066630984.\n",
            "Iteration 52, inertia 148482.56978448623.\n",
            "Iteration 53, inertia 148476.10945277987.\n",
            "Iteration 54, inertia 148469.46459661316.\n",
            "Iteration 55, inertia 148462.9645218944.\n",
            "Iteration 56, inertia 148454.6000770288.\n",
            "Iteration 57, inertia 148444.54231196654.\n",
            "Iteration 58, inertia 148431.81636241858.\n",
            "Iteration 59, inertia 148417.13183848833.\n",
            "Iteration 60, inertia 148401.9373189272.\n",
            "Iteration 61, inertia 148387.98604647382.\n",
            "Iteration 62, inertia 148375.4922147618.\n",
            "Iteration 63, inertia 148362.86434359473.\n",
            "Iteration 64, inertia 148351.5387655549.\n",
            "Iteration 65, inertia 148340.1506502914.\n",
            "Iteration 66, inertia 148329.72044806438.\n",
            "Iteration 67, inertia 148319.56550888586.\n",
            "Iteration 68, inertia 148309.68430809246.\n",
            "Iteration 69, inertia 148299.6153246931.\n",
            "Iteration 70, inertia 148289.6810514759.\n",
            "Iteration 71, inertia 148280.18493545937.\n",
            "Iteration 72, inertia 148271.06335637852.\n",
            "Iteration 73, inertia 148262.59289688684.\n",
            "Iteration 74, inertia 148253.89500313986.\n",
            "Iteration 75, inertia 148243.92435065997.\n",
            "Iteration 76, inertia 148231.93149678136.\n",
            "Iteration 77, inertia 148216.69788334065.\n",
            "Iteration 78, inertia 148197.65119578777.\n",
            "Iteration 79, inertia 148176.75768602142.\n",
            "Iteration 80, inertia 148154.56486051448.\n",
            "Iteration 81, inertia 148126.6339786329.\n",
            "Iteration 82, inertia 148097.08300035645.\n",
            "Iteration 83, inertia 148061.59341856794.\n",
            "Iteration 84, inertia 148024.87110692833.\n",
            "Iteration 85, inertia 147985.60165029758.\n",
            "Iteration 86, inertia 147937.907051183.\n",
            "Iteration 87, inertia 147890.2161698339.\n",
            "Iteration 88, inertia 147845.41694965406.\n",
            "Iteration 89, inertia 147806.36924628535.\n",
            "Iteration 90, inertia 147772.94074131481.\n",
            "Iteration 91, inertia 147747.35096398732.\n",
            "Iteration 92, inertia 147722.62360386123.\n",
            "Iteration 93, inertia 147704.2831620844.\n",
            "Iteration 94, inertia 147688.70510074837.\n",
            "Iteration 95, inertia 147675.6216959769.\n",
            "Iteration 96, inertia 147666.89343500722.\n",
            "Iteration 97, inertia 147659.68127761275.\n",
            "Iteration 98, inertia 147653.05726236757.\n",
            "Iteration 99, inertia 147647.98655506695.\n",
            "Iteration 100, inertia 147643.5871739356.\n",
            "Iteration 101, inertia 147639.98521748587.\n",
            "Iteration 102, inertia 147637.1888916474.\n",
            "Iteration 103, inertia 147634.95331611772.\n",
            "Iteration 104, inertia 147632.68080944207.\n",
            "Iteration 105, inertia 147630.48465640712.\n",
            "Iteration 106, inertia 147628.88832703052.\n",
            "Iteration 107, inertia 147627.82103774085.\n",
            "Iteration 108, inertia 147626.03212096027.\n",
            "Iteration 109, inertia 147624.5969392516.\n",
            "Iteration 110, inertia 147622.19374827726.\n",
            "Iteration 111, inertia 147618.90279747298.\n",
            "Iteration 112, inertia 147616.69746609853.\n",
            "Iteration 113, inertia 147615.28791851387.\n",
            "Iteration 114, inertia 147614.04936196195.\n",
            "Iteration 115, inertia 147610.20636227736.\n",
            "Iteration 116, inertia 147607.31556259797.\n",
            "Iteration 117, inertia 147603.82023048148.\n",
            "Iteration 118, inertia 147600.9957105015.\n",
            "Iteration 119, inertia 147599.53322249354.\n",
            "Iteration 120, inertia 147599.16002300274.\n",
            "Iteration 121, inertia 147599.0735864094.\n",
            "Converged at iteration 121: center shift 9.484554547794578e-05 within tolerance 0.00010000000000000049.\n",
            "Initialization complete\n",
            "Iteration 0, inertia 182194.85935363895.\n",
            "Iteration 1, inertia 163072.09672366185.\n",
            "Iteration 2, inertia 157922.92460970973.\n",
            "Iteration 3, inertia 155087.57073658568.\n",
            "Iteration 4, inertia 153449.09073747596.\n",
            "Iteration 5, inertia 152511.71792891365.\n",
            "Iteration 6, inertia 151956.7557053373.\n",
            "Iteration 7, inertia 151550.03999003986.\n",
            "Iteration 8, inertia 151226.67911664105.\n",
            "Iteration 9, inertia 150989.59081743716.\n",
            "Iteration 10, inertia 150800.30254658952.\n",
            "Iteration 11, inertia 150683.06487617453.\n",
            "Iteration 12, inertia 150580.19960186174.\n",
            "Iteration 13, inertia 150493.94095350633.\n",
            "Iteration 14, inertia 150430.27623244657.\n",
            "Iteration 15, inertia 150359.73417643263.\n",
            "Iteration 16, inertia 150287.4021281145.\n",
            "Iteration 17, inertia 150216.7420708682.\n",
            "Iteration 18, inertia 150149.51181872998.\n",
            "Iteration 19, inertia 150070.9868726355.\n",
            "Iteration 20, inertia 149975.20597457548.\n",
            "Iteration 21, inertia 149879.29559478816.\n",
            "Iteration 22, inertia 149823.40550624102.\n",
            "Iteration 23, inertia 149771.09231153037.\n",
            "Iteration 24, inertia 149684.79154302136.\n",
            "Iteration 25, inertia 149570.0657386692.\n",
            "Iteration 26, inertia 149460.56204667824.\n",
            "Iteration 27, inertia 149335.40534527414.\n",
            "Iteration 28, inertia 149163.76808644296.\n",
            "Iteration 29, inertia 148977.72605615773.\n",
            "Iteration 30, inertia 148827.1185717454.\n",
            "Iteration 31, inertia 148626.36103426604.\n",
            "Iteration 32, inertia 148458.34004532034.\n",
            "Iteration 33, inertia 148365.20836735753.\n",
            "Iteration 34, inertia 148281.14294266154.\n",
            "Iteration 35, inertia 148236.95578851135.\n",
            "Iteration 36, inertia 148190.32601486612.\n",
            "Iteration 37, inertia 148133.45806787512.\n",
            "Iteration 38, inertia 148109.522177055.\n",
            "Iteration 39, inertia 148084.6117238783.\n",
            "Iteration 40, inertia 148066.62586208025.\n",
            "Iteration 41, inertia 148050.73046091796.\n",
            "Iteration 42, inertia 148040.782380672.\n",
            "Iteration 43, inertia 148030.56055888082.\n",
            "Iteration 44, inertia 148022.2295031826.\n",
            "Iteration 45, inertia 148014.60644565892.\n",
            "Iteration 46, inertia 148006.60793378303.\n",
            "Iteration 47, inertia 147998.18618259128.\n",
            "Iteration 48, inertia 147989.43262930412.\n",
            "Iteration 49, inertia 147980.8455582714.\n",
            "Iteration 50, inertia 147969.04627274355.\n",
            "Iteration 51, inertia 147958.5147098747.\n",
            "Iteration 52, inertia 147945.90234608183.\n",
            "Iteration 53, inertia 147935.84566804435.\n",
            "Iteration 54, inertia 147926.36348463967.\n",
            "Iteration 55, inertia 147915.8595485374.\n",
            "Iteration 56, inertia 147907.84816952804.\n",
            "Iteration 57, inertia 147900.33848430598.\n",
            "Iteration 58, inertia 147892.1876670499.\n",
            "Iteration 59, inertia 147883.5717384335.\n",
            "Iteration 60, inertia 147875.36024308522.\n",
            "Iteration 61, inertia 147867.1771815683.\n",
            "Iteration 62, inertia 147859.82542418502.\n",
            "Iteration 63, inertia 147854.38249107424.\n",
            "Iteration 64, inertia 147849.96644224727.\n",
            "Iteration 65, inertia 147843.99828708963.\n",
            "Iteration 66, inertia 147837.58249324615.\n",
            "Iteration 67, inertia 147827.9585780491.\n",
            "Iteration 68, inertia 147813.78510491145.\n",
            "Iteration 69, inertia 147797.64788743103.\n",
            "Iteration 70, inertia 147783.69500360402.\n",
            "Iteration 71, inertia 147777.8713374529.\n",
            "Iteration 72, inertia 147773.8726589075.\n",
            "Iteration 73, inertia 147770.75807367556.\n",
            "Iteration 74, inertia 147768.0452332358.\n",
            "Iteration 75, inertia 147765.312231377.\n",
            "Iteration 76, inertia 147762.95425450837.\n",
            "Iteration 77, inertia 147761.10107982362.\n",
            "Iteration 78, inertia 147760.10599815467.\n",
            "Iteration 79, inertia 147759.65238589828.\n",
            "Iteration 80, inertia 147759.43209691427.\n",
            "Iteration 81, inertia 147759.14699653472.\n",
            "Iteration 82, inertia 147758.9018791755.\n",
            "Converged at iteration 82: center shift 4.334167224259372e-05 within tolerance 0.00010000000000000049.\n",
            "Initialization complete\n",
            "Iteration 0, inertia 181231.81431616278.\n",
            "Iteration 1, inertia 159316.65449611598.\n",
            "Iteration 2, inertia 154453.77138570847.\n",
            "Iteration 3, inertia 152376.35994652528.\n",
            "Iteration 4, inertia 151169.40704567585.\n",
            "Iteration 5, inertia 150418.97833418852.\n",
            "Iteration 6, inertia 149946.15250986803.\n",
            "Iteration 7, inertia 149677.581455114.\n",
            "Iteration 8, inertia 149471.65225443197.\n",
            "Iteration 9, inertia 149270.9343093569.\n",
            "Iteration 10, inertia 149076.73436677846.\n",
            "Iteration 11, inertia 148904.312097972.\n",
            "Iteration 12, inertia 148720.88099858077.\n",
            "Iteration 13, inertia 148551.16272716864.\n",
            "Iteration 14, inertia 148396.8080555.\n",
            "Iteration 15, inertia 148245.04759308376.\n",
            "Iteration 16, inertia 148097.4560467074.\n",
            "Iteration 17, inertia 147960.9852011893.\n",
            "Iteration 18, inertia 147833.8908557032.\n",
            "Iteration 19, inertia 147690.37469515036.\n",
            "Iteration 20, inertia 147556.29402672785.\n",
            "Iteration 21, inertia 147460.0974799695.\n",
            "Iteration 22, inertia 147365.40164283404.\n",
            "Iteration 23, inertia 147279.90944257082.\n",
            "Iteration 24, inertia 147213.9805861643.\n",
            "Iteration 25, inertia 147166.90991390872.\n",
            "Iteration 26, inertia 147124.7760008427.\n",
            "Iteration 27, inertia 147094.97613269178.\n",
            "Iteration 28, inertia 147070.1003058213.\n",
            "Iteration 29, inertia 147040.01028519234.\n",
            "Iteration 30, inertia 147008.60105020844.\n",
            "Iteration 31, inertia 146986.57689802366.\n",
            "Iteration 32, inertia 146959.40521140903.\n",
            "Iteration 33, inertia 146934.14731370274.\n",
            "Iteration 34, inertia 146910.16843191968.\n",
            "Iteration 35, inertia 146888.959034972.\n",
            "Iteration 36, inertia 146866.33170420112.\n",
            "Iteration 37, inertia 146846.3125248034.\n",
            "Iteration 38, inertia 146821.75262980186.\n",
            "Iteration 39, inertia 146797.2121358837.\n",
            "Iteration 40, inertia 146780.91310161492.\n",
            "Iteration 41, inertia 146770.77727693337.\n",
            "Iteration 42, inertia 146759.10050199708.\n",
            "Iteration 43, inertia 146747.4418178534.\n",
            "Iteration 44, inertia 146733.100472789.\n",
            "Iteration 45, inertia 146719.4698939445.\n",
            "Iteration 46, inertia 146705.98149264167.\n",
            "Iteration 47, inertia 146695.74867789843.\n",
            "Iteration 48, inertia 146684.41468430328.\n",
            "Iteration 49, inertia 146677.29684529605.\n",
            "Iteration 50, inertia 146671.33518612714.\n",
            "Iteration 51, inertia 146665.72114467487.\n",
            "Iteration 52, inertia 146657.47086361004.\n",
            "Iteration 53, inertia 146650.72537863126.\n",
            "Iteration 54, inertia 146644.32053623247.\n",
            "Iteration 55, inertia 146640.29069477046.\n",
            "Iteration 56, inertia 146636.91129630292.\n",
            "Iteration 57, inertia 146632.5676070304.\n",
            "Iteration 58, inertia 146627.92046214387.\n",
            "Iteration 59, inertia 146624.49666938357.\n",
            "Iteration 60, inertia 146619.37425561046.\n",
            "Iteration 61, inertia 146610.27265036537.\n",
            "Iteration 62, inertia 146603.28511799948.\n",
            "Iteration 63, inertia 146597.67182538286.\n",
            "Iteration 64, inertia 146593.35039043188.\n",
            "Iteration 65, inertia 146587.92465880723.\n",
            "Iteration 66, inertia 146583.11488685478.\n",
            "Iteration 67, inertia 146576.15118328683.\n",
            "Iteration 68, inertia 146566.4682728104.\n",
            "Iteration 69, inertia 146557.19615355623.\n",
            "Iteration 70, inertia 146543.41142196977.\n",
            "Iteration 71, inertia 146527.26861186203.\n",
            "Iteration 72, inertia 146512.88023746526.\n",
            "Iteration 73, inertia 146500.5103154578.\n",
            "Iteration 74, inertia 146492.59412655095.\n",
            "Iteration 75, inertia 146483.60386136835.\n",
            "Iteration 76, inertia 146475.59408219965.\n",
            "Iteration 77, inertia 146465.0196894001.\n",
            "Iteration 78, inertia 146454.73363270567.\n",
            "Iteration 79, inertia 146448.48333424388.\n",
            "Iteration 80, inertia 146445.6907498528.\n",
            "Iteration 81, inertia 146442.23388002085.\n",
            "Iteration 82, inertia 146438.80953297784.\n",
            "Iteration 83, inertia 146432.56464322025.\n",
            "Iteration 84, inertia 146424.7891757172.\n",
            "Iteration 85, inertia 146417.07312117884.\n",
            "Iteration 86, inertia 146407.21022630768.\n",
            "Iteration 87, inertia 146395.64655744497.\n",
            "Iteration 88, inertia 146387.92523699068.\n",
            "Iteration 89, inertia 146383.8136534192.\n",
            "Iteration 90, inertia 146378.71018750998.\n",
            "Iteration 91, inertia 146373.9399051664.\n",
            "Iteration 92, inertia 146371.0533236941.\n",
            "Iteration 93, inertia 146367.4898834253.\n",
            "Iteration 94, inertia 146366.393740919.\n",
            "Iteration 95, inertia 146365.6784385183.\n",
            "Iteration 96, inertia 146364.11289170827.\n",
            "Iteration 97, inertia 146360.9649267211.\n",
            "Iteration 98, inertia 146359.52902810357.\n",
            "Iteration 99, inertia 146357.78164840405.\n",
            "Iteration 100, inertia 146356.45486906223.\n",
            "Iteration 101, inertia 146355.57621891933.\n",
            "Iteration 102, inertia 146355.08348779316.\n",
            "Iteration 103, inertia 146354.5124027303.\n",
            "Iteration 104, inertia 146353.5992858485.\n",
            "Iteration 105, inertia 146352.48330417078.\n",
            "Iteration 106, inertia 146351.387301091.\n",
            "Iteration 107, inertia 146350.48814209455.\n",
            "Iteration 108, inertia 146350.1971704622.\n",
            "Iteration 109, inertia 146349.84873113054.\n",
            "Iteration 110, inertia 146349.72666638097.\n",
            "Iteration 111, inertia 146349.59798804478.\n",
            "Iteration 112, inertia 146349.40909683466.\n",
            "Iteration 113, inertia 146349.30237504074.\n",
            "Iteration 114, inertia 146349.1662700894.\n",
            "Converged at iteration 114: center shift 8.593944593245747e-06 within tolerance 0.00010000000000000049.\n",
            "Initialization complete\n",
            "Iteration 0, inertia 180373.6751167826.\n",
            "Iteration 1, inertia 160153.9042995152.\n",
            "Iteration 2, inertia 155317.46193647227.\n",
            "Iteration 3, inertia 153123.90668331322.\n",
            "Iteration 4, inertia 151959.4382641056.\n",
            "Iteration 5, inertia 151368.780439411.\n",
            "Iteration 6, inertia 150881.0338867371.\n",
            "Iteration 7, inertia 150562.3625784068.\n",
            "Iteration 8, inertia 150304.90802474078.\n",
            "Iteration 9, inertia 150014.04196610342.\n",
            "Iteration 10, inertia 149775.822327497.\n",
            "Iteration 11, inertia 149576.144456097.\n",
            "Iteration 12, inertia 149335.83812204725.\n",
            "Iteration 13, inertia 149101.21241774395.\n",
            "Iteration 14, inertia 148950.30195872532.\n",
            "Iteration 15, inertia 148851.31145352218.\n",
            "Iteration 16, inertia 148768.73620840895.\n",
            "Iteration 17, inertia 148685.91027203016.\n",
            "Iteration 18, inertia 148602.10643194668.\n",
            "Iteration 19, inertia 148514.0437794624.\n",
            "Iteration 20, inertia 148426.619856589.\n",
            "Iteration 21, inertia 148333.83527466902.\n",
            "Iteration 22, inertia 148250.06492261443.\n",
            "Iteration 23, inertia 148189.32872207425.\n",
            "Iteration 24, inertia 148151.8167533082.\n",
            "Iteration 25, inertia 148127.2053694579.\n",
            "Iteration 26, inertia 148107.7690292423.\n",
            "Iteration 27, inertia 148082.14342437295.\n",
            "Iteration 28, inertia 148067.50087647297.\n",
            "Iteration 29, inertia 148051.51700330112.\n",
            "Iteration 30, inertia 148037.01557652513.\n",
            "Iteration 31, inertia 148022.71942494233.\n",
            "Iteration 32, inertia 148015.92266810217.\n",
            "Iteration 33, inertia 148010.70569990645.\n",
            "Iteration 34, inertia 148006.64413569626.\n",
            "Iteration 35, inertia 148002.5175783979.\n",
            "Iteration 36, inertia 147995.99767079577.\n",
            "Iteration 37, inertia 147989.945574518.\n",
            "Iteration 38, inertia 147985.39490393287.\n",
            "Iteration 39, inertia 147982.67392458318.\n",
            "Iteration 40, inertia 147979.82100476613.\n",
            "Iteration 41, inertia 147979.3016314202.\n",
            "Iteration 42, inertia 147978.8940117024.\n",
            "Converged at iteration 42: center shift 8.811238492159326e-05 within tolerance 0.00010000000000000049.\n",
            "Initialization complete\n",
            "Iteration 0, inertia 176030.44347663474.\n",
            "Iteration 1, inertia 161733.1594373115.\n",
            "Iteration 2, inertia 158541.8047796937.\n",
            "Iteration 3, inertia 156788.6345917383.\n",
            "Iteration 4, inertia 155408.80727383663.\n",
            "Iteration 5, inertia 154284.73976016502.\n",
            "Iteration 6, inertia 153343.78678512815.\n",
            "Iteration 7, inertia 152295.5373152041.\n",
            "Iteration 8, inertia 151222.93880925496.\n",
            "Iteration 9, inertia 150468.96229058478.\n",
            "Iteration 10, inertia 150008.0334354896.\n",
            "Iteration 11, inertia 149667.83049056187.\n",
            "Iteration 12, inertia 149356.72757920655.\n",
            "Iteration 13, inertia 149117.01957119937.\n",
            "Iteration 14, inertia 148865.41101483573.\n",
            "Iteration 15, inertia 148598.72605594865.\n",
            "Iteration 16, inertia 148297.06762790002.\n",
            "Iteration 17, inertia 148058.68335202834.\n",
            "Iteration 18, inertia 147859.4139270992.\n",
            "Iteration 19, inertia 147716.36318891417.\n",
            "Iteration 20, inertia 147586.1801754444.\n",
            "Iteration 21, inertia 147475.85580394472.\n",
            "Iteration 22, inertia 147352.16435297334.\n",
            "Iteration 23, inertia 147232.3146764884.\n",
            "Iteration 24, inertia 147133.21697522904.\n",
            "Iteration 25, inertia 147058.22555017224.\n",
            "Iteration 26, inertia 146992.3347522438.\n",
            "Iteration 27, inertia 146932.5172867082.\n",
            "Iteration 28, inertia 146880.48553159717.\n",
            "Iteration 29, inertia 146836.95648772974.\n",
            "Iteration 30, inertia 146795.82344898992.\n",
            "Iteration 31, inertia 146757.56853458073.\n",
            "Iteration 32, inertia 146717.1728076574.\n",
            "Iteration 33, inertia 146686.6999121632.\n",
            "Iteration 34, inertia 146655.6787168487.\n",
            "Iteration 35, inertia 146634.49011697323.\n",
            "Iteration 36, inertia 146619.6746252196.\n",
            "Iteration 37, inertia 146594.843894954.\n",
            "Iteration 38, inertia 146568.7836360905.\n",
            "Iteration 39, inertia 146533.05069126305.\n",
            "Iteration 40, inertia 146518.9475576128.\n",
            "Iteration 41, inertia 146509.65829744798.\n",
            "Iteration 42, inertia 146502.4164417311.\n",
            "Iteration 43, inertia 146495.38145261008.\n",
            "Iteration 44, inertia 146489.0683122402.\n",
            "Iteration 45, inertia 146484.4988052288.\n",
            "Iteration 46, inertia 146481.64924294912.\n",
            "Iteration 47, inertia 146479.6792725986.\n",
            "Iteration 48, inertia 146478.54676204405.\n",
            "Iteration 49, inertia 146477.54946370958.\n",
            "Iteration 50, inertia 146476.76238995232.\n",
            "Converged at iteration 50: center shift 8.126448060966502e-05 within tolerance 0.00010000000000000049.\n",
            "Initialization complete\n",
            "Iteration 0, inertia 179287.96632259735.\n",
            "Iteration 1, inertia 157786.87926666907.\n",
            "Iteration 2, inertia 153773.76636231327.\n",
            "Iteration 3, inertia 151837.03488340465.\n",
            "Iteration 4, inertia 150415.76504908607.\n",
            "Iteration 5, inertia 149576.89322323474.\n",
            "Iteration 6, inertia 149054.62776523386.\n",
            "Iteration 7, inertia 148610.06005916756.\n",
            "Iteration 8, inertia 148273.46771181238.\n",
            "Iteration 9, inertia 148012.16870980553.\n",
            "Iteration 10, inertia 147762.10159188378.\n",
            "Iteration 11, inertia 147512.45687076595.\n",
            "Iteration 12, inertia 147311.31033560616.\n",
            "Iteration 13, inertia 147162.43496129705.\n",
            "Iteration 14, inertia 147076.81541740726.\n",
            "Iteration 15, inertia 147021.27102892325.\n",
            "Iteration 16, inertia 146965.31964608538.\n",
            "Iteration 17, inertia 146907.63909194813.\n",
            "Iteration 18, inertia 146850.1848467488.\n",
            "Iteration 19, inertia 146811.71890572668.\n",
            "Iteration 20, inertia 146733.20665147976.\n",
            "Iteration 21, inertia 146693.88018866518.\n",
            "Iteration 22, inertia 146664.55628873716.\n",
            "Iteration 23, inertia 146651.62736028008.\n",
            "Iteration 24, inertia 146640.5474398756.\n",
            "Iteration 25, inertia 146631.0196714857.\n",
            "Iteration 26, inertia 146621.2748959381.\n",
            "Iteration 27, inertia 146615.52211677763.\n",
            "Iteration 28, inertia 146609.14306494477.\n",
            "Iteration 29, inertia 146603.65759804042.\n",
            "Iteration 30, inertia 146599.29582955097.\n",
            "Iteration 31, inertia 146595.87939012574.\n",
            "Iteration 32, inertia 146592.97019845922.\n",
            "Iteration 33, inertia 146590.6265618535.\n",
            "Iteration 34, inertia 146588.5253443754.\n",
            "Iteration 35, inertia 146586.97597486887.\n",
            "Iteration 36, inertia 146585.74634054466.\n",
            "Iteration 37, inertia 146584.66933239557.\n",
            "Iteration 38, inertia 146583.70071727489.\n",
            "Converged at iteration 38: center shift 9.679640726371067e-05 within tolerance 0.00010000000000000049.\n",
            "Initialization complete\n",
            "Iteration 0, inertia 177537.4401684333.\n",
            "Iteration 1, inertia 163038.09640245163.\n",
            "Iteration 2, inertia 158773.0643004182.\n",
            "Iteration 3, inertia 156213.2733781337.\n",
            "Iteration 4, inertia 154204.83119634446.\n",
            "Iteration 5, inertia 152720.90199203862.\n",
            "Iteration 6, inertia 151476.95942778443.\n",
            "Iteration 7, inertia 150552.80362503376.\n",
            "Iteration 8, inertia 149901.81998563142.\n",
            "Iteration 9, inertia 149471.5764495462.\n",
            "Iteration 10, inertia 149015.72135931105.\n",
            "Iteration 11, inertia 148667.99134438758.\n",
            "Iteration 12, inertia 148500.69105422602.\n",
            "Iteration 13, inertia 148368.58139087068.\n",
            "Iteration 14, inertia 148229.8611187638.\n",
            "Iteration 15, inertia 148151.91850304138.\n",
            "Iteration 16, inertia 148087.0274316478.\n",
            "Iteration 17, inertia 148005.91659302154.\n",
            "Iteration 18, inertia 147917.11852158638.\n",
            "Iteration 19, inertia 147839.89147871395.\n",
            "Iteration 20, inertia 147727.52045959776.\n",
            "Iteration 21, inertia 147498.3744562283.\n",
            "Iteration 22, inertia 147413.85074303628.\n",
            "Iteration 23, inertia 147358.15503726588.\n",
            "Iteration 24, inertia 147292.0799240925.\n",
            "Iteration 25, inertia 147240.9196287777.\n",
            "Iteration 26, inertia 147195.47827766422.\n",
            "Iteration 27, inertia 147156.83520217525.\n",
            "Iteration 28, inertia 147120.25540674932.\n",
            "Iteration 29, inertia 147079.2193861046.\n",
            "Iteration 30, inertia 147052.58699295184.\n",
            "Iteration 31, inertia 147032.38020807464.\n",
            "Iteration 32, inertia 147009.2049607872.\n",
            "Iteration 33, inertia 146983.90982806607.\n",
            "Iteration 34, inertia 146956.7121170134.\n",
            "Iteration 35, inertia 146921.30081908213.\n",
            "Iteration 36, inertia 146888.45053794672.\n",
            "Iteration 37, inertia 146858.46829448995.\n",
            "Iteration 38, inertia 146836.5710329273.\n",
            "Iteration 39, inertia 146812.35058007503.\n",
            "Iteration 40, inertia 146790.77196960786.\n",
            "Iteration 41, inertia 146774.31881559634.\n",
            "Iteration 42, inertia 146760.2310188346.\n",
            "Iteration 43, inertia 146748.81806826257.\n",
            "Iteration 44, inertia 146738.14105691624.\n",
            "Iteration 45, inertia 146725.93032370467.\n",
            "Iteration 46, inertia 146714.09245039377.\n",
            "Iteration 47, inertia 146696.98638841283.\n",
            "Iteration 48, inertia 146678.60868032568.\n",
            "Iteration 49, inertia 146658.51190158312.\n",
            "Iteration 50, inertia 146631.69091908142.\n",
            "Iteration 51, inertia 146594.3065861267.\n",
            "Iteration 52, inertia 146558.36636295292.\n",
            "Iteration 53, inertia 146519.424090906.\n",
            "Iteration 54, inertia 146477.65411900615.\n",
            "Iteration 55, inertia 146444.3529534516.\n",
            "Iteration 56, inertia 146417.53431118105.\n",
            "Iteration 57, inertia 146400.35769187912.\n",
            "Iteration 58, inertia 146384.35003431802.\n",
            "Iteration 59, inertia 146365.6930539784.\n",
            "Iteration 60, inertia 146323.9916405517.\n",
            "Iteration 61, inertia 146280.31525801792.\n",
            "Iteration 62, inertia 146251.0760841341.\n",
            "Iteration 63, inertia 146235.0547217445.\n",
            "Iteration 64, inertia 146216.46434784678.\n",
            "Iteration 65, inertia 146197.27986073043.\n",
            "Iteration 66, inertia 146178.1778110132.\n",
            "Iteration 67, inertia 146160.84948021002.\n",
            "Iteration 68, inertia 146151.02885933625.\n",
            "Iteration 69, inertia 146133.26459940895.\n",
            "Iteration 70, inertia 146120.5533882239.\n",
            "Iteration 71, inertia 146100.88200376258.\n",
            "Iteration 72, inertia 146080.97602682744.\n",
            "Iteration 73, inertia 146058.65054291644.\n",
            "Iteration 74, inertia 146040.865836675.\n",
            "Iteration 75, inertia 146021.38998653414.\n",
            "Iteration 76, inertia 146009.07658703203.\n",
            "Iteration 77, inertia 146002.48910069116.\n",
            "Iteration 78, inertia 145997.84309247427.\n",
            "Iteration 79, inertia 145993.21294860455.\n",
            "Iteration 80, inertia 145989.01285245497.\n",
            "Iteration 81, inertia 145986.02454653435.\n",
            "Iteration 82, inertia 145983.75205405877.\n",
            "Iteration 83, inertia 145981.278613162.\n",
            "Iteration 84, inertia 145977.06263238256.\n",
            "Iteration 85, inertia 145974.53275852755.\n",
            "Iteration 86, inertia 145971.5952321946.\n",
            "Iteration 87, inertia 145970.4876152583.\n",
            "Iteration 88, inertia 145969.6817960037.\n",
            "Iteration 89, inertia 145969.04428037655.\n",
            "Iteration 90, inertia 145968.7211037988.\n",
            "Iteration 91, inertia 145968.41515602195.\n",
            "Iteration 92, inertia 145968.0187112451.\n",
            "Iteration 93, inertia 145967.55241996833.\n",
            "Iteration 94, inertia 145967.2390838457.\n",
            "Iteration 95, inertia 145967.0653937853.\n",
            "Iteration 96, inertia 145966.91200746936.\n",
            "Converged at iteration 96: center shift 2.4373817891247376e-05 within tolerance 0.00010000000000000049.\n",
            "Initialization complete\n",
            "Iteration 0, inertia 184245.239463498.\n",
            "Iteration 1, inertia 161979.70835154247.\n",
            "Iteration 2, inertia 156554.1460848481.\n",
            "Iteration 3, inertia 153543.83228007314.\n",
            "Iteration 4, inertia 151839.94458027632.\n",
            "Iteration 5, inertia 150908.4868465594.\n",
            "Iteration 6, inertia 150195.87110393864.\n",
            "Iteration 7, inertia 149642.98721839095.\n",
            "Iteration 8, inertia 149117.3953205598.\n",
            "Iteration 9, inertia 148745.26549123088.\n",
            "Iteration 10, inertia 148457.5241082534.\n",
            "Iteration 11, inertia 148238.32402639883.\n",
            "Iteration 12, inertia 148083.80618938874.\n",
            "Iteration 13, inertia 147948.812068971.\n",
            "Iteration 14, inertia 147831.27943498897.\n",
            "Iteration 15, inertia 147743.80684098962.\n",
            "Iteration 16, inertia 147678.67481525254.\n",
            "Iteration 17, inertia 147629.38599301086.\n",
            "Iteration 18, inertia 147590.14343726682.\n",
            "Iteration 19, inertia 147544.7787153283.\n",
            "Iteration 20, inertia 147496.42677747647.\n",
            "Iteration 21, inertia 147419.095406103.\n",
            "Iteration 22, inertia 147369.93643222493.\n",
            "Iteration 23, inertia 147341.80818137754.\n",
            "Iteration 24, inertia 147321.44861721568.\n",
            "Iteration 25, inertia 147300.42099769568.\n",
            "Iteration 26, inertia 147286.94354732186.\n",
            "Iteration 27, inertia 147274.00491247443.\n",
            "Iteration 28, inertia 147246.8083852151.\n",
            "Iteration 29, inertia 147200.47356037705.\n",
            "Iteration 30, inertia 147170.16724855558.\n",
            "Iteration 31, inertia 147119.1464977358.\n",
            "Iteration 32, inertia 147079.48846272987.\n",
            "Iteration 33, inertia 147035.38870775007.\n",
            "Iteration 34, inertia 146985.55954417426.\n",
            "Iteration 35, inertia 146930.60531214793.\n",
            "Iteration 36, inertia 146870.78109899256.\n",
            "Iteration 37, inertia 146787.54325336203.\n",
            "Iteration 38, inertia 146744.94795792378.\n",
            "Iteration 39, inertia 146722.2694476394.\n",
            "Iteration 40, inertia 146708.58451057167.\n",
            "Iteration 41, inertia 146699.20134095056.\n",
            "Iteration 42, inertia 146693.6863745426.\n",
            "Iteration 43, inertia 146690.71164198703.\n",
            "Iteration 44, inertia 146685.54026957258.\n",
            "Iteration 45, inertia 146678.77734254306.\n",
            "Iteration 46, inertia 146672.4628716252.\n",
            "Iteration 47, inertia 146663.88183823842.\n",
            "Iteration 48, inertia 146652.72135845837.\n",
            "Iteration 49, inertia 146644.10811322276.\n",
            "Iteration 50, inertia 146639.91870041814.\n",
            "Iteration 51, inertia 146632.97015572063.\n",
            "Iteration 52, inertia 146626.77951979265.\n",
            "Iteration 53, inertia 146623.9623345082.\n",
            "Iteration 54, inertia 146620.6129524281.\n",
            "Iteration 55, inertia 146615.36801626082.\n",
            "Iteration 56, inertia 146604.66142630426.\n",
            "Iteration 57, inertia 146580.50504558254.\n",
            "Iteration 58, inertia 146568.68886896857.\n",
            "Iteration 59, inertia 146547.3196149323.\n",
            "Iteration 60, inertia 146505.09679687864.\n",
            "Iteration 61, inertia 146477.37407589654.\n",
            "Iteration 62, inertia 146461.8227710374.\n",
            "Iteration 63, inertia 146445.3795808457.\n",
            "Iteration 64, inertia 146408.92375714754.\n",
            "Iteration 65, inertia 146402.4821194481.\n",
            "Iteration 66, inertia 146396.07152050338.\n",
            "Iteration 67, inertia 146395.30326396876.\n",
            "Converged at iteration 67: center shift 1.5870451582887602e-05 within tolerance 0.00010000000000000049.\n",
            "Initialization complete\n",
            "Iteration 0, inertia 182826.10698283333.\n",
            "Iteration 1, inertia 163488.9375143451.\n",
            "Iteration 2, inertia 158355.82279718845.\n",
            "Iteration 3, inertia 155188.2012850572.\n",
            "Iteration 4, inertia 153223.65756070442.\n",
            "Iteration 5, inertia 151830.89402362664.\n",
            "Iteration 6, inertia 151062.01517216946.\n",
            "Iteration 7, inertia 150503.65989958672.\n",
            "Iteration 8, inertia 150096.95704388525.\n",
            "Iteration 9, inertia 149707.96068122296.\n",
            "Iteration 10, inertia 149341.4926451075.\n",
            "Iteration 11, inertia 148940.89655614662.\n",
            "Iteration 12, inertia 148565.9361288452.\n",
            "Iteration 13, inertia 148269.37055984285.\n",
            "Iteration 14, inertia 148019.02812369744.\n",
            "Iteration 15, inertia 147840.4304763001.\n",
            "Iteration 16, inertia 147698.277709722.\n",
            "Iteration 17, inertia 147589.7730923525.\n",
            "Iteration 18, inertia 147480.74341794063.\n",
            "Iteration 19, inertia 147374.58716200694.\n",
            "Iteration 20, inertia 147283.47452934162.\n",
            "Iteration 21, inertia 147201.3517933018.\n",
            "Iteration 22, inertia 147129.50548241322.\n",
            "Iteration 23, inertia 147057.3803695661.\n",
            "Iteration 24, inertia 146994.84479981655.\n",
            "Iteration 25, inertia 146936.3332907324.\n",
            "Iteration 26, inertia 146883.15946951846.\n",
            "Iteration 27, inertia 146828.50116865832.\n",
            "Iteration 28, inertia 146766.04222603806.\n",
            "Iteration 29, inertia 146699.51976102867.\n",
            "Iteration 30, inertia 146630.60262199098.\n",
            "Iteration 31, inertia 146501.16584835382.\n",
            "Iteration 32, inertia 146365.9201473764.\n",
            "Iteration 33, inertia 146282.40647833695.\n",
            "Iteration 34, inertia 146227.0612460814.\n",
            "Iteration 35, inertia 146185.73374473336.\n",
            "Iteration 36, inertia 146155.9400041737.\n",
            "Iteration 37, inertia 146140.18148251285.\n",
            "Iteration 38, inertia 146126.86222455214.\n",
            "Iteration 39, inertia 146115.00299205421.\n",
            "Iteration 40, inertia 146103.7594917357.\n",
            "Iteration 41, inertia 146093.73435680987.\n",
            "Iteration 42, inertia 146083.96297113434.\n",
            "Iteration 43, inertia 146074.9296587879.\n",
            "Iteration 44, inertia 146067.63108049368.\n",
            "Iteration 45, inertia 146061.26217998777.\n",
            "Iteration 46, inertia 146055.18277160623.\n",
            "Iteration 47, inertia 146049.8550400421.\n",
            "Iteration 48, inertia 146044.90253938388.\n",
            "Iteration 49, inertia 146039.90926999864.\n",
            "Iteration 50, inertia 146036.155105909.\n",
            "Iteration 51, inertia 146033.1575825533.\n",
            "Iteration 52, inertia 146030.74808990597.\n",
            "Iteration 53, inertia 146028.63161233396.\n",
            "Iteration 54, inertia 146026.6967109553.\n",
            "Iteration 55, inertia 146025.07298133813.\n",
            "Converged at iteration 55: center shift 6.391134281399028e-05 within tolerance 0.00010000000000000049.\n",
            "Initialization complete\n",
            "Iteration 0, inertia 178994.18703937938.\n",
            "Iteration 1, inertia 159064.75524359779.\n",
            "Iteration 2, inertia 154331.96230890555.\n",
            "Iteration 3, inertia 152375.93974797073.\n",
            "Iteration 4, inertia 151276.32392840405.\n",
            "Iteration 5, inertia 150525.3010178235.\n",
            "Iteration 6, inertia 149917.59074440357.\n",
            "Iteration 7, inertia 149411.59764432593.\n",
            "Iteration 8, inertia 149034.48557399528.\n",
            "Iteration 9, inertia 148740.49518109873.\n",
            "Iteration 10, inertia 148562.07021218183.\n",
            "Iteration 11, inertia 148459.49539342494.\n",
            "Iteration 12, inertia 148388.84268535828.\n",
            "Iteration 13, inertia 148327.65756019205.\n",
            "Iteration 14, inertia 148275.21344089936.\n",
            "Iteration 15, inertia 148221.5282121772.\n",
            "Iteration 16, inertia 148175.05824913803.\n",
            "Iteration 17, inertia 148131.70793783278.\n",
            "Iteration 18, inertia 148082.9124245469.\n",
            "Iteration 19, inertia 148033.50065846764.\n",
            "Iteration 20, inertia 147991.60527442582.\n",
            "Iteration 21, inertia 147960.45348556293.\n",
            "Iteration 22, inertia 147922.3399568774.\n",
            "Iteration 23, inertia 147887.57981579297.\n",
            "Iteration 24, inertia 147858.09809038564.\n",
            "Iteration 25, inertia 147829.8582127038.\n",
            "Iteration 26, inertia 147805.93872007943.\n",
            "Iteration 27, inertia 147784.61505389953.\n",
            "Iteration 28, inertia 147762.23247286602.\n",
            "Iteration 29, inertia 147744.6816965132.\n",
            "Iteration 30, inertia 147728.17130032316.\n",
            "Iteration 31, inertia 147707.7669890909.\n",
            "Iteration 32, inertia 147685.41947274783.\n",
            "Iteration 33, inertia 147659.14798274048.\n",
            "Iteration 34, inertia 147625.44699619.\n",
            "Iteration 35, inertia 147605.54465934375.\n",
            "Iteration 36, inertia 147588.10431054243.\n",
            "Iteration 37, inertia 147572.3201191543.\n",
            "Iteration 38, inertia 147558.92422290787.\n",
            "Iteration 39, inertia 147541.0971895741.\n",
            "Iteration 40, inertia 147523.38863487064.\n",
            "Iteration 41, inertia 147483.78301038564.\n",
            "Iteration 42, inertia 147447.83462869743.\n",
            "Iteration 43, inertia 147415.9626979586.\n",
            "Iteration 44, inertia 147362.58826451658.\n",
            "Iteration 45, inertia 147313.6389164376.\n",
            "Iteration 46, inertia 147273.2961481615.\n",
            "Iteration 47, inertia 147196.63395576988.\n",
            "Iteration 48, inertia 147113.94165978784.\n",
            "Iteration 49, inertia 147001.29296518222.\n",
            "Iteration 50, inertia 146939.5869333765.\n",
            "Iteration 51, inertia 146905.25731523577.\n",
            "Iteration 52, inertia 146857.44409045755.\n",
            "Iteration 53, inertia 146817.16037172347.\n",
            "Iteration 54, inertia 146785.40960836955.\n",
            "Iteration 55, inertia 146753.69248787046.\n",
            "Iteration 56, inertia 146747.83680296628.\n",
            "Iteration 57, inertia 146744.9370737753.\n",
            "Iteration 58, inertia 146742.082893954.\n",
            "Iteration 59, inertia 146737.50988854002.\n",
            "Iteration 60, inertia 146734.96218786674.\n",
            "Iteration 61, inertia 146733.66880459286.\n",
            "Iteration 62, inertia 146732.4644378334.\n",
            "Iteration 63, inertia 146731.5746153261.\n",
            "Iteration 64, inertia 146731.3242607963.\n",
            "Iteration 65, inertia 146731.15780136213.\n",
            "Iteration 66, inertia 146730.82420812594.\n",
            "Converged at iteration 66: center shift 6.339320426859331e-05 within tolerance 0.00010000000000000049.\n"
          ]
        }
      ]
    },
    {
      "cell_type": "markdown",
      "source": [
        "We now have a set of cluster labels that group the data into 50 similar groups. Let's store it in our stacked dataset!"
      ],
      "metadata": {
        "id": "XZXYUggc8xex"
      }
    },
    {
      "cell_type": "code",
      "source": [
        "# Let's run this line\n",
        "stacked['clusters'].values = cluster_labels"
      ],
      "metadata": {
        "id": "aH0qNHM89GER"
      },
      "execution_count": 31,
      "outputs": []
    },
    {
      "cell_type": "markdown",
      "source": [
        "## Visualization"
      ],
      "metadata": {
        "id": "inC84qGpRLh5"
      }
    },
    {
      "cell_type": "markdown",
      "source": [
        "We now have a set of labels, but they're stored in a flattened array. Since we'd like to see the data as a map, we still have some work to do. Let's go back to a 2D representation of our values.\n",
        "\n",
        "### Q10) Turn the flattened xarray back into a set of 2D fields\n",
        "*Hint*: xarrays have an [`.unstack` method](https://xarray.pydata.org/en/stable/generated/xarray.DataArray.unstack.html) that you will find to be very useful for this."
      ],
      "metadata": {
        "id": "pFPN00oH9oI8"
      }
    },
    {
      "cell_type": "code",
      "source": [
        "# Complete the code:\n",
        "processed_ds = stacked.unstack()"
      ],
      "metadata": {
        "id": "lp1u28inKUNT"
      },
      "execution_count": 33,
      "outputs": []
    },
    {
      "cell_type": "markdown",
      "source": [
        "Now we have an unstacked dataset, and can now easily plot out the clusters we found!\n",
        "\n",
        "### Q11) Plot the 'cluster' variable using the built-in xarray function\n",
        "*Hint: `.plot()` [link text](https://xarray.pydata.org/en/stable/generated/xarray.DataArray.plot.html) let's you access the xarray implementations of [`pcolormesh`](https://matplotlib.org/3.1.1/api/_as_gen/matplotlib.pyplot.pcolormesh.html) and [`imshow`](https://matplotlib.org/3.1.1/api/_as_gen/matplotlib.pyplot.imshow.html).*"
      ],
      "metadata": {
        "id": "y4w0zUDn8OOU"
      }
    },
    {
      "cell_type": "code",
      "source": [
        "processed_ds.clusters.plot.imshow(figsize=(12,6),cmap='coolwarm')\n",
        "\n"
      ],
      "metadata": {
        "id": "DLLCcgw_n3tu",
        "colab": {
          "base_uri": "https://localhost:8080/",
          "height": 569
        },
        "outputId": "85e5461e-f9ea-4b2b-abda-4d1774619e5c"
      },
      "execution_count": 41,
      "outputs": [
        {
          "output_type": "execute_result",
          "data": {
            "text/plain": [
              "<matplotlib.image.AxesImage at 0x7e95b57de260>"
            ]
          },
          "metadata": {},
          "execution_count": 41
        },
        {
          "output_type": "display_data",
          "data": {
            "text/plain": [
              "<Figure size 1200x600 with 2 Axes>"
            ],
            "image/png": "[encoded data removed]"
          },
          "metadata": {}
        }
      ]
    },
    {
      "cell_type": "markdown",
      "source": [
        "Compare your results to those from the paper:\n",
        "<img src='https://unils-my.sharepoint.com/:i:/g/personal/tom_beucler_unil_ch/EdLh6Ds0yVlFivyfIOXlV74B_G35dVz87GFagzylIG-gZA?download=1'>"
      ],
      "metadata": {
        "id": "sOja6JCxo45g"
      }
    },
    {
      "cell_type": "markdown",
      "source": [
        "We now want to find the 5 most common regimes, and group the rest. This isn't straightforward, so we've gone ahead and prepared the code for you. Run through it and try to understand what the code is doing!"
      ],
      "metadata": {
        "id": "HrLKLVWXtgeX"
      }
    },
    {
      "cell_type": "code",
      "source": [
        "# Make field filled with -1 vals so unprocessed points are easily retrieved.\n",
        "# Noise masked applied automatically by using previously found labels as base.\n",
        "processed_ds['final_clusters'] = (processed_ds.clusters * 0) - 1\n",
        "\n",
        "# Find the 5 most common cluster labels\n",
        "top_clusters = processed_ds.groupby('clusters').count().sortby('BPT').tail(5).clusters.values\n",
        "\n",
        "#Build the set of indices for the cluster data, used for rewriting cluster labels\n",
        "for idx, label in enumerate(top_clusters):\n",
        "    #Find the indices where the label is found\n",
        "    indices = (processed_ds.clusters == label)\n",
        "\n",
        "    processed_ds['final_clusters'].values[indices] = 4-idx\n",
        "\n",
        "# Set the remaining unlabeled regions to category 5 \"non-linear\"\n",
        "processed_ds['final_clusters'].values[processed_ds.final_clusters==-1] = 5\n",
        "\n",
        "# Plot the figure\n",
        "processed_ds.final_clusters.plot.imshow(cmap=mycmap, figsize=(18,8));"
      ],
      "metadata": {
        "id": "UO5OohbKptau",
        "colab": {
          "base_uri": "https://localhost:8080/",
          "height": 583
        },
        "outputId": "85c5c996-bbbd-4415-b85a-5d51fa8f0377"
      },
      "execution_count": 42,
      "outputs": [
        {
          "output_type": "display_data",
          "data": {
            "text/plain": [
              "<Figure size 1800x800 with 2 Axes>"
            ],
            "image/png": "[encoded data removed]"
          },
          "metadata": {}
        }
      ]
    },
    {
      "cell_type": "code",
      "source": [
        "# Feel free to use this space"
      ],
      "metadata": {
        "id": "IHSj9yRaUCSg"
      },
      "execution_count": 36,
      "outputs": []
    },
    {
      "cell_type": "markdown",
      "source": [
        "Compare it to the regimes found in the paper:\n",
        "<img src='https://unils-my.sharepoint.com/:i:/g/personal/tom_beucler_unil_ch/EehuR9cUfaJImrw4DCAzDPoBiGuG7R3Ys6453Umi1cN_OQ?download=1'>\n",
        "\n"
      ],
      "metadata": {
        "id": "eEMmkpGkc1Xy"
      }
    },
    {
      "cell_type": "markdown",
      "source": [
        "The authors then went on to train neural networks ***to infer in-depth dynamics from data that is largely readily available from for example CMIP6 models, using NN methods to infer the source of predictive skill*** and ***to apply the trained Ensemble MLP to a climate model in order to assess circulation changes under global heating***.\n",
        "\n",
        "For our purposes, however, we will say goodbye to *THOR* at this point 😃"
      ],
      "metadata": {
        "id": "nbWgoD7bv8AH"
      }
    }
  ]
}